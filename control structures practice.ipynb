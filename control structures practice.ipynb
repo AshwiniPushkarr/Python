{
 "cells": [
  {
   "cell_type": "markdown",
   "id": "ce4a41c2-c2ab-451a-ab4a-1df6fd9ff768",
   "metadata": {},
   "source": [
    "## Control Structures ##"
   ]
  },
  {
   "cell_type": "code",
   "execution_count": 13,
   "id": "794b987d-677d-4165-81a7-f389a7a57b23",
   "metadata": {},
   "outputs": [],
   "source": [
    "#1. Conditional Statements\n",
    "#Conditional statements allow you to execute certain blocks of code depending on whether a condition is true or false.\n",
    "\n",
    "#  A) if statement: Used to test a condition and execute code if the condition is true\n",
    "#Syntax:\n",
    "#if condition:\n",
    "    # Code to execute if condition is True\n",
    "\n",
    "#  B) elif (else if) statement: Used to test another condition if the previous if condition is false.\n",
    "#Syntax:\n",
    "#if condition1:\n",
    "    # Code to execute if condition1 is True\n",
    "#elif condition2:\n",
    "    # Code to execute if condition2 is True\n",
    "\n",
    "#  C) else statement: Executes a block of code if none of the preceding conditions are true.\n",
    "#Syntax:\n",
    "#if condition:\n",
    "    # Code to execute if condition is True\n",
    "#else:\n",
    "    # Code to execute if condition is False\n"
   ]
  },
  {
   "cell_type": "code",
   "execution_count": 3,
   "id": "7f891e95-69a2-4730-953d-9f011d44752d",
   "metadata": {},
   "outputs": [
    {
     "name": "stdout",
     "output_type": "stream",
     "text": [
      "YES\n"
     ]
    }
   ],
   "source": [
    "#The If-Else Construct\n",
    "#What is the output of the following code?\n",
    "\n",
    "#X = 12\n",
    "\n",
    "#if (X > 10 & X < 15):\n",
    "#print('YES')\n",
    "#else:\n",
    "#print('No')\n",
    "\n",
    "X = 12\n",
    "if (X > 10 & X < 15):\n",
    "print('YES')\n",
    "else:\n",
    "print('No')\n",
    "\n",
    "#Error\n",
    "#Indentation is very important in Python, and the code above throws an error saying expected indented block.\n",
    "to correct this.. \n",
    "\n",
    "X = 12\n",
    "if (X > 10 & X < 15):\n",
    " print('YES')\n",
    "else:\n",
    " print('No')\n",
    "    # output: YEs"
   ]
  },
  {
   "cell_type": "code",
   "execution_count": null,
   "id": "25297805-04fe-4bf2-8c95-1c5b0f716d1f",
   "metadata": {},
   "outputs": [],
   "source": [
    "#Maximum of Three Numbers\n",
    "#Complete the piece of code to print a maximum of three variables, a, b and c.\n",
    "\n",
    "#a=10\n",
    "#b=16\n",
    "#c=20\n",
    "\n",
    "#if( # missing part 1 # ):\n",
    "    #print(\"a\")\n",
    "#elif( # missing part 2 #):\n",
    "   # print(\"b\")\n",
    "#else:\n",
    "     print(\"c\")\n",
    "\n",
    "\n",
    "#Missing Part 1: a > b and a > c           \n",
    "\n",
    "#Missing Part 2: b > a and b > c\n",
    "#In the first step of the if-statement, if you have observed a, it is being printed which means the condition should check whether a is highest among the three \n",
    "#i.e both a>b and a>c under if condition has to be true. In order to join these two conditions, you need to use a logical and operator since you want both the conditions to be true. \n",
    "#Similarly in the second condition, you want b to be printed; so, the condition to this would b > c and b > a."
   ]
  },
  {
   "cell_type": "code",
   "execution_count": null,
   "id": "a7fad9e6-10b5-420a-9b2d-01599e9df1b9",
   "metadata": {},
   "outputs": [],
   "source": [
    "#Reverse Engineering\n",
    "#Which of the following sequences of inputs would give the output 'C' 'A' 'D' 'B' over multiple iterations?\n",
    "\n",
    "Given the code below, the output obtained in several runs is 'C' 'A' 'D' 'B'.\n",
    "if score >= 90:\n",
    "   print('A')\n",
    "elif score >=80:\n",
    "   print('B')\n",
    "elif score >= 70:\n",
    "   print('C')\n",
    "elif score >= 60:\n",
    "   print('D')\n",
    "else:\n",
    "   print('F')\n",
    "\n",
    "#Output: 70, 91, 67, 88"
   ]
  },
  {
   "cell_type": "code",
   "execution_count": 5,
   "id": "b42cf484-0645-4b7e-ae89-fd9bd2f963e3",
   "metadata": {},
   "outputs": [
    {
     "name": "stdout",
     "output_type": "stream",
     "text": [
      "B\n"
     ]
    }
   ],
   "source": [
    "#Can You Guess the Output?\n",
    "#What will the following segment of code print? Try doing this verbally.\n",
    "\n",
    "if (10 < 0) and (0 < -10):\n",
    "    print(\"A\")\n",
    "elif (10 > 0) or False:\n",
    "    print(\"B\")\n",
    "else:\n",
    "    print(\"C\")\n",
    "# B\n",
    "#10 > 0 returns True. True or False is True. Hence, 'B' gets printed."
   ]
  },
  {
   "cell_type": "code",
   "execution_count": 7,
   "id": "9991cdab-62cc-4dbe-86ed-5aa2af1d2884",
   "metadata": {},
   "outputs": [
    {
     "name": "stdout",
     "output_type": "stream",
     "text": [
      "B\n"
     ]
    }
   ],
   "source": [
    "#A Search for the Truth\n",
    "#What will the following segment of code print? Try solving it verbally.if True or True:\n",
    "    if False and True or False:\n",
    "        print('A')\n",
    "    elif False and False or True and True:\n",
    "        print('B')\n",
    "    else:\n",
    "        print('C')\n",
    "else:\n",
    "    print('D')\n",
    "\n",
    "#B\n",
    "#T or T will be a T. The code will return the value that satisfies these statements. A will be returned for an F, \n",
    "#as (F and T) = F, (F or F) = F. B will be returned for a T, as (F and F) = F, (T and T) = T, (F or T) = T."
   ]
  },
  {
   "cell_type": "code",
   "execution_count": 21,
   "id": "c7e1f1f7-662c-4d18-89ea-1fe00ef75f83",
   "metadata": {},
   "outputs": [
    {
     "name": "stdin",
     "output_type": "stream",
     "text": [
      " Ashwini\n"
     ]
    },
    {
     "name": "stdout",
     "output_type": "stream",
     "text": [
      "YES\n"
     ]
    }
   ],
   "source": [
    "#Description\n",
    "#Write a code to check if the string in input_str starts with a vowel or not. Print capital YES or NO.\n",
    "#For example, if input_str = 'analytics' then, your output should print 'YES'.\n",
    "#Sample Input:\n",
    "#alpha\n",
    "#Sample Output:\n",
    "#YES\n",
    "\n",
    "import ast,sys\n",
    "#input_str = sys.stdin.read()\n",
    "input_str = input()\n",
    "if input_str[0] == 'a' or input_str[0] == 'e' or input_str[0] == 'i' or input_str[0] == 'o' or input_str[0] == 'u' or input_str[0] == 'A' or input_str[0] == 'E' or input_str[0] == 'I' or input_str[0] == 'O' or input_str[0] == 'U': \n",
    "   print(\"YES\")\n",
    "else:\n",
    "   print(\"NO\")\n"
   ]
  },
  {
   "cell_type": "code",
   "execution_count": 19,
   "id": "8d395e12-6774-4712-b3c1-a44d7e78c69f",
   "metadata": {},
   "outputs": [
    {
     "name": "stdin",
     "output_type": "stream",
     "text": [
      " Ashwini\n"
     ]
    },
    {
     "name": "stdout",
     "output_type": "stream",
     "text": [
      "YES\n"
     ]
    }
   ],
   "source": []
  },
  {
   "cell_type": "markdown",
   "id": "5dbe64a4-0302-4ee6-a155-53c4010c7c41",
   "metadata": {},
   "source": [
    "<b>LOOPS AND ITERATIONS</b>"
   ]
  },
  {
   "cell_type": "code",
   "execution_count": null,
   "id": "63725183-63f9-4750-b6b6-927530b223a8",
   "metadata": {},
   "outputs": [],
   "source": [
    "While Loop"
   ]
  },
  {
   "cell_type": "code",
   "execution_count": 27,
   "id": "adb3609d-9636-4cfc-9719-a5d5ee3b1553",
   "metadata": {},
   "outputs": [
    {
     "name": "stdin",
     "output_type": "stream",
     "text": [
      "Enter your four digit pin:  1234\n"
     ]
    },
    {
     "name": "stdout",
     "output_type": "stream",
     "text": [
      "Pin validation successful.\n"
     ]
    }
   ],
   "source": [
    "pin = input(\"Enter your four digit pin: \")\n",
    "while pin != '1234':                           #Pre-set pin is 1234\n",
    "    pin = input('Invalid input, please try again: ')  \n",
    "print(\"Pin validation successful.\")"
   ]
  },
  {
   "cell_type": "code",
   "execution_count": 29,
   "id": "d853b4a8-3669-4f9f-b827-fac1710fc643",
   "metadata": {},
   "outputs": [
    {
     "name": "stdin",
     "output_type": "stream",
     "text": [
      "Enter your four digit pin:  1234\n"
     ]
    },
    {
     "name": "stdout",
     "output_type": "stream",
     "text": [
      "Pin validation successful.\n"
     ]
    }
   ],
   "source": [
    "# Now if we want to add a maximum number of tries allowed we'll add an 'if loop'\n",
    "\n",
    "import sys    #required for exiting the code and displaying an error\n",
    "\n",
    "pin = input(\"Enter your four digit pin: \")\n",
    "attempt_count = 1\n",
    "while pin != '1234':\n",
    "    if attempt_count >= 3:\n",
    "     sys.exit(\"Too many invalid attempts\")   #error code\n",
    "    pin = input('Invalid input, please try again: ')  \n",
    "    attempt_count += 1\n",
    "print(\"Pin validation successful.\")\n"
   ]
  },
  {
   "cell_type": "code",
   "execution_count": null,
   "id": "50971e9c-9db5-43e5-a4fd-f92cc7d52f38",
   "metadata": {},
   "outputs": [],
   "source": [
    "'For loop' Control Structure:"
   ]
  },
  {
   "cell_type": "code",
   "execution_count": 35,
   "id": "e41cc10c-bc61-48e8-89b4-55f6d775e852",
   "metadata": {},
   "outputs": [
    {
     "name": "stdout",
     "output_type": "stream",
     "text": [
      "N\n",
      "E\n",
      "W\n",
      " \n",
      "Y\n",
      "O\n",
      "R\n",
      "K\n"
     ]
    }
   ],
   "source": [
    "string = \"NEW YORK\"\n",
    "for val in string :\n",
    "   print(val)    "
   ]
  },
  {
   "cell_type": "code",
   "execution_count": 37,
   "id": "a72f2397-bf9d-41d0-a5b8-2665facc5b47",
   "metadata": {},
   "outputs": [
    {
     "name": "stdout",
     "output_type": "stream",
     "text": [
      "N :\n",
      "E :\n",
      "W :\n",
      "  :\n",
      "Y :\n",
      "O :\n",
      "R :\n",
      "K :\n"
     ]
    }
   ],
   "source": [
    "string = \"NEW YORK\"\n",
    "for val in string :\n",
    "   print(val, \":\") "
   ]
  },
  {
   "cell_type": "code",
   "execution_count": 41,
   "id": "19dc5fb3-ac74-4cbd-8d29-1b98a6060b5a",
   "metadata": {},
   "outputs": [
    {
     "name": "stdout",
     "output_type": "stream",
     "text": [
      "N:E:W: :Y:O:R:K:"
     ]
    }
   ],
   "source": [
    "string = \"NEW YORK\"\n",
    "for val in string :\n",
    "   print(val, end = \":\")"
   ]
  },
  {
   "cell_type": "code",
   "execution_count": 43,
   "id": "f76e580f-aadb-434d-9f8f-259717bf4b10",
   "metadata": {},
   "outputs": [
    {
     "data": {
      "text/plain": [
       "sys.version_info(major=3, minor=12, micro=4, releaselevel='final', serial=0)"
      ]
     },
     "execution_count": 43,
     "metadata": {},
     "output_type": "execute_result"
    }
   ],
   "source": [
    "sys.version_info"
   ]
  },
  {
   "cell_type": "code",
   "execution_count": 88,
   "id": "5933cbfc-76d8-4119-9fef-5588322bac7e",
   "metadata": {},
   "outputs": [],
   "source": [
    "L1 = [10, 20, 30, 24, 18]\n",
    "L2 = [8, 14, 15, 20, 10]\n",
    "L3 = []\n",
    "\n",
    "for i in L3:\n",
    "    L3.append(L1[i] - L2[i])\n",
    "    print(L3)"
   ]
  },
  {
   "cell_type": "code",
   "execution_count": 98,
   "id": "4c1c8c9c-26c4-47ae-bb3c-150ae4978ad5",
   "metadata": {},
   "outputs": [
    {
     "ename": "SyntaxError",
     "evalue": "invalid syntax (1770463141.py, line 6)",
     "output_type": "error",
     "traceback": [
      "\u001b[1;36m  Cell \u001b[1;32mIn[98], line 6\u001b[1;36m\u001b[0m\n\u001b[1;33m    for char not in zen:\u001b[0m\n\u001b[1;37m             ^\u001b[0m\n\u001b[1;31mSyntaxError\u001b[0m\u001b[1;31m:\u001b[0m invalid syntax\n"
     ]
    }
   ],
   "source": [
    "zen = '''Beautiful is better than ugly.\n",
    "Explicit is better than implicit.\n",
    "Simple is better than complex.\n",
    "Complex is better than complicated.\n",
    "'''\n",
    "for char  in zen:\n",
    "   if char in 'aeiou':\n",
    "      print (char, end='')"
   ]
  },
  {
   "cell_type": "code",
   "execution_count": 112,
   "id": "c62acbb5-10ca-4885-968b-48d438216f04",
   "metadata": {},
   "outputs": [
    {
     "name": "stdout",
     "output_type": "stream",
     "text": [
      "539\n"
     ]
    }
   ],
   "source": [
    "numbers = (34,54,67,21,78,97,45,44,80,19)\n",
    "total = 0\n",
    "for num in numbers:\n",
    "   total += num\n",
    "print(total)"
   ]
  },
  {
   "cell_type": "code",
   "execution_count": 108,
   "id": "3581262c-fee4-4294-b4bf-d7174bab993b",
   "metadata": {},
   "outputs": [
    {
     "name": "stdout",
     "output_type": "stream",
     "text": [
      "539\n"
     ]
    }
   ],
   "source": [
    "numbers = (34,54,67,21,78,97,45,44,80,19)\n",
    "total = 0\n",
    "for num in numbers:\n",
    "   total += num\n",
    "print (total)"
   ]
  },
  {
   "cell_type": "code",
   "execution_count": 114,
   "id": "e6ec787e-dacd-47dc-96f7-622f9a7a1b60",
   "metadata": {},
   "outputs": [
    {
     "name": "stdout",
     "output_type": "stream",
     "text": [
      "34\n",
      "54\n",
      "78\n",
      "44\n",
      "80\n"
     ]
    }
   ],
   "source": [
    "#The for loop traverses a list containing integers and prints only those which are divisible by 2.\n",
    "numbers = [34,54,67,21,78,97,45,44,80,19]\n",
    "for num in numbers:\n",
    "    if num%2 == 0:\n",
    "        print(num)"
   ]
  },
  {
   "cell_type": "code",
   "execution_count": 118,
   "id": "0fd68457-7f0e-443a-8913-f72be6178b89",
   "metadata": {},
   "outputs": [
    {
     "name": "stdout",
     "output_type": "stream",
     "text": [
      "10 = 2 * 5\n",
      "11 is a prime number\n",
      "12 = 2 * 6\n",
      "13 is a prime number\n",
      "14 = 2 * 7\n",
      "15 is a prime number\n",
      "16 = 2 * 8\n",
      "17 is a prime number\n",
      "18 = 2 * 9\n",
      "19 is a prime number\n"
     ]
    }
   ],
   "source": [
    "#For loop to iterate between 10 to 20\n",
    "for num in range(10, 20):  \n",
    "   #For loop to iterate on the factors \n",
    "   for i in range(2,num): \n",
    "      #If statement to determine the first factor\n",
    "      if num%i == 0:      \n",
    "         #To calculate the second factor\n",
    "         j=num/i          \n",
    "         print (\"%d = %d * %d\" % (num,i,j))\n",
    "         #To move to the next number\n",
    "         break \n",
    "      else:                  \n",
    "         print (num, \"is a prime number\")\n",
    "         break"
   ]
  },
  {
   "cell_type": "markdown",
   "id": "b8834310-c07e-4304-bd61-de91c43eb7d3",
   "metadata": {},
   "source": [
    "<b>NOTE:</b>\n",
    "\n",
    "range(n): This creates a range object that has elements from 0 to n-1 [ both inclusive].\n",
    "\n",
    "range(m,n): This creates a range object that has elements from m to n-1 [both inclusive].\n",
    "\n",
    "range(m,n,t): This creates a range object that has elements from m to n-1 with a step count of t. \n",
    "In other words, the range object has elements m, m+t, m+2t…so on. If t is negative, \n",
    "the elements would be decreasing, and that’s exactly what happens in the range (100, 0, -1)."
   ]
  },
  {
   "cell_type": "code",
   "execution_count": 157,
   "id": "5e99fd0e-b27c-45de-bccc-d5b70d4f0aeb",
   "metadata": {},
   "outputs": [
    {
     "ename": "NameError",
     "evalue": "name 'append' is not defined",
     "output_type": "error",
     "traceback": [
      "\u001b[1;31m---------------------------------------------------------------------------\u001b[0m",
      "\u001b[1;31mNameError\u001b[0m                                 Traceback (most recent call last)",
      "Cell \u001b[1;32mIn[157], line 10\u001b[0m\n\u001b[0;32m      8\u001b[0m L3\u001b[38;5;241m=\u001b[39m[]\n\u001b[0;32m      9\u001b[0m \u001b[38;5;28;01mfor\u001b[39;00m  i \u001b[38;5;129;01min\u001b[39;00m \u001b[38;5;28mrange\u001b[39m(\u001b[38;5;28mlen\u001b[39m(L2)):\n\u001b[1;32m---> 10\u001b[0m     append(L2[i] \u001b[38;5;241m-\u001b[39mL1[i])\n\u001b[0;32m     13\u001b[0m     \u001b[38;5;66;03m#L3.append(L1[i] -L2[i])\u001b[39;00m\n\u001b[0;32m     17\u001b[0m \u001b[38;5;28mprint\u001b[39m(L3)\n",
      "\u001b[1;31mNameError\u001b[0m: name 'append' is not defined"
     ]
    }
   ],
   "source": [
    "#Complete the Code\n",
    "#Complete this piece of code for calculating the element-wise difference between two lists and storing them in L3.\n",
    "\n",
    "#[Assume that the lists are of the same length.]\n",
    "\n",
    "L1 = [10, 20, 30, 24, 18]\n",
    "L2 = [8, 14, 15, 20, 10]\n",
    "L3=[]\n",
    "for  i in range(len(L2)):\n",
    "    append(L2[i] -L1[i])\n",
    "     \n",
    "\n",
    "    #L3.append(L1[i] -L2[i])\n",
    "    \n",
    "  \n",
    "                                   \n",
    "print(L3)"
   ]
  },
  {
   "cell_type": "code",
   "execution_count": 191,
   "id": "d3950917-c49d-4ac9-8071-6a75880d8cff",
   "metadata": {},
   "outputs": [
    {
     "ename": "IndentationError",
     "evalue": "unexpected indent (3770006111.py, line 11)",
     "output_type": "error",
     "traceback": [
      "\u001b[1;36m  Cell \u001b[1;32mIn[191], line 11\u001b[1;36m\u001b[0m\n\u001b[1;33m    = ast.literal_eval(input_str)\u001b[0m\n\u001b[1;37m    ^\u001b[0m\n\u001b[1;31mIndentationError\u001b[0m\u001b[1;31m:\u001b[0m unexpected indent\n"
     ]
    }
   ],
   "source": [
    "#Iterations\n",
    "#Description\n",
    "#You are given a list of string elements and asked to return a list which contains each element of the string in\n",
    "#title case or in other words first character of the string would be in upper case and remaining all characters in lower case\n",
    "#Sample Input:\n",
    "#['VARMA', 'raj', 'Gupta', 'SaNdeeP']\n",
    "#Sample Output\n",
    "#['Varma', 'Raj', 'Gupta', 'Sandeep']\n",
    "import ast,sys\n",
    "input_str = sys.stdin.read()\n",
    " = ast.literal_eval(input_str)\n",
    "l3 = []\n",
    "for element in input_list:\n",
    "   l3 = input_list.append(element.capitalize())\n",
    "print(l3)"
   ]
  },
  {
   "cell_type": "code",
   "execution_count": 486,
   "id": "83c5aaa1-0668-401e-bc88-fb62c021338e",
   "metadata": {},
   "outputs": [
    {
     "ename": "SyntaxError",
     "evalue": "invalid syntax (<unknown>, line 0)",
     "output_type": "error",
     "traceback": [
      "Traceback \u001b[1;36m(most recent call last)\u001b[0m:\n",
      "\u001b[0m  File \u001b[0;32m~\\anaconda3\\Lib\\site-packages\\IPython\\core\\interactiveshell.py:3577\u001b[0m in \u001b[0;35mrun_code\u001b[0m\n    exec(code_obj, self.user_global_ns, self.user_ns)\u001b[0m\n",
      "\u001b[0m  Cell \u001b[0;32mIn[486], line 6\u001b[0m\n    input_list = ast.literal_eval(input_str)\u001b[0m\n",
      "\u001b[0m  File \u001b[0;32m~\\anaconda3\\Lib\\ast.py:66\u001b[0m in \u001b[0;35mliteral_eval\u001b[0m\n    node_or_string = parse(node_or_string.lstrip(\" \\t\"), mode='eval')\u001b[0m\n",
      "\u001b[1;36m  File \u001b[1;32m~\\anaconda3\\Lib\\ast.py:52\u001b[1;36m in \u001b[1;35mparse\u001b[1;36m\n\u001b[1;33m    return compile(source, filename, mode, flags,\u001b[1;36m\n",
      "\u001b[1;36m  File \u001b[1;32m<unknown>\u001b[1;36m\u001b[0m\n\u001b[1;33m    \u001b[0m\n\u001b[1;37m    ^\u001b[0m\n\u001b[1;31mSyntaxError\u001b[0m\u001b[1;31m:\u001b[0m invalid syntax\n"
     ]
    }
   ],
   "source": [
    "import ast\n",
    "import sys\n",
    "l3 = []\n",
    "# Read the input string and parse it as a Python literal (e.g., a list)\n",
    "input_str =  sys.stdin.read()\n",
    "input_list = ast.literal_eval(input_str)\n",
    "# Initialize an empty list to store capitalized strings\n",
    "# Loop over each element in the input list\n",
    "for e in input_list:\n",
    "    l3 = e.capitalize()\n",
    "    # Capitalize the current element and append it to l3\n",
    "    #l3.append(element.capitalize())\n",
    "# Print the final list of capitalized strings\n",
    "print(l3)"
   ]
  },
  {
   "cell_type": "code",
   "execution_count": 221,
   "id": "a8a963f6-3e17-427d-b5fa-bb8724c0d0b0",
   "metadata": {},
   "outputs": [
    {
     "name": "stdin",
     "output_type": "stream",
     "text": [
      "enter a range 20\n"
     ]
    },
    {
     "name": "stdout",
     "output_type": "stream",
     "text": [
      "2\n",
      "3\n",
      "4 is not a prime no\n",
      "5\n",
      "6 is not a prime no\n",
      "7\n",
      "8 is not a prime no\n",
      "9 is not a prime no\n",
      "10 is not a prime no\n",
      "11\n",
      "12 is not a prime no\n",
      "13\n",
      "14 is not a prime no\n",
      "15 is not a prime no\n",
      "16 is not a prime no\n",
      "17\n",
      "18 is not a prime no\n",
      "19\n"
     ]
    }
   ],
   "source": [
    "#prime no's from 1 to 20\n",
    "range1 = input(\"enter a range\")\n",
    "for n in range(2,20):\n",
    "    flag = True\n",
    "    for i in range(2,n):\n",
    "        if n%i == 0:\n",
    "            print(n, \"is not a prime no\")\n",
    "            flag = False\n",
    "            break\n",
    "    if flag == True:\n",
    "        print(n)\n",
    "    "
   ]
  },
  {
   "cell_type": "code",
   "execution_count": 229,
   "id": "31d7c3ad-c39f-43c8-914a-d18ea51c0527",
   "metadata": {},
   "outputs": [
    {
     "data": {
      "text/plain": [
       "[-100,\n",
       " -98,\n",
       " -96,\n",
       " -94,\n",
       " -92,\n",
       " -90,\n",
       " -88,\n",
       " -86,\n",
       " -84,\n",
       " -82,\n",
       " -80,\n",
       " -78,\n",
       " -76,\n",
       " -74,\n",
       " -72,\n",
       " -70,\n",
       " -68,\n",
       " -66,\n",
       " -64,\n",
       " -62,\n",
       " -60,\n",
       " -58,\n",
       " -56,\n",
       " -54,\n",
       " -52,\n",
       " -50,\n",
       " -48,\n",
       " -46,\n",
       " -44,\n",
       " -42,\n",
       " -40,\n",
       " -38,\n",
       " -36,\n",
       " -34,\n",
       " -32,\n",
       " -30,\n",
       " -28,\n",
       " -26,\n",
       " -24,\n",
       " -22,\n",
       " -20,\n",
       " -18,\n",
       " -16,\n",
       " -14,\n",
       " -12,\n",
       " -10,\n",
       " -8,\n",
       " -6,\n",
       " -4,\n",
       " -2]"
      ]
     },
     "execution_count": 229,
     "metadata": {},
     "output_type": "execute_result"
    }
   ],
   "source": [
    "l = []\n",
    "for i in range(-100, 0):\n",
    "    if(i % 2 == 0):\n",
    "        l.append(i)\n",
    "l"
   ]
  },
  {
   "cell_type": "code",
   "execution_count": 231,
   "id": "7d400aec-2b60-4bae-8748-cde05881694e",
   "metadata": {},
   "outputs": [
    {
     "data": {
      "text/plain": [
       "[]"
      ]
     },
     "execution_count": 231,
     "metadata": {},
     "output_type": "execute_result"
    }
   ],
   "source": [
    "\n",
    "list(range(0, -101, 2))"
   ]
  },
  {
   "cell_type": "code",
   "execution_count": 233,
   "id": "f87679ad-c029-445f-8663-a73cc70f6768",
   "metadata": {},
   "outputs": [
    {
     "data": {
      "text/plain": [
       "[-100,\n",
       " -98,\n",
       " -96,\n",
       " -94,\n",
       " -92,\n",
       " -90,\n",
       " -88,\n",
       " -86,\n",
       " -84,\n",
       " -82,\n",
       " -80,\n",
       " -78,\n",
       " -76,\n",
       " -74,\n",
       " -72,\n",
       " -70,\n",
       " -68,\n",
       " -66,\n",
       " -64,\n",
       " -62,\n",
       " -60,\n",
       " -58,\n",
       " -56,\n",
       " -54,\n",
       " -52,\n",
       " -50,\n",
       " -48,\n",
       " -46,\n",
       " -44,\n",
       " -42,\n",
       " -40,\n",
       " -38,\n",
       " -36,\n",
       " -34,\n",
       " -32,\n",
       " -30,\n",
       " -28,\n",
       " -26,\n",
       " -24,\n",
       " -22,\n",
       " -20,\n",
       " -18,\n",
       " -16,\n",
       " -14,\n",
       " -12,\n",
       " -10,\n",
       " -8,\n",
       " -6,\n",
       " -4,\n",
       " -2]"
      ]
     },
     "execution_count": 233,
     "metadata": {},
     "output_type": "execute_result"
    }
   ],
   "source": [
    "\n",
    "list(range(-100, -1, 2))"
   ]
  },
  {
   "cell_type": "code",
   "execution_count": 235,
   "id": "dd0b4d4a-6bc0-4363-af86-1ec796d057ed",
   "metadata": {},
   "outputs": [
    {
     "data": {
      "text/plain": [
       "[-100,\n",
       " -98,\n",
       " -96,\n",
       " -94,\n",
       " -92,\n",
       " -90,\n",
       " -88,\n",
       " -86,\n",
       " -84,\n",
       " -82,\n",
       " -80,\n",
       " -78,\n",
       " -76,\n",
       " -74,\n",
       " -72,\n",
       " -70,\n",
       " -68,\n",
       " -66,\n",
       " -64,\n",
       " -62,\n",
       " -60,\n",
       " -58,\n",
       " -56,\n",
       " -54,\n",
       " -52,\n",
       " -50,\n",
       " -48,\n",
       " -46,\n",
       " -44,\n",
       " -42,\n",
       " -40,\n",
       " -38,\n",
       " -36,\n",
       " -34,\n",
       " -32,\n",
       " -30,\n",
       " -28,\n",
       " -26,\n",
       " -24,\n",
       " -22,\n",
       " -20,\n",
       " -18,\n",
       " -16,\n",
       " -14,\n",
       " -12,\n",
       " -10,\n",
       " -8,\n",
       " -6,\n",
       " -4,\n",
       " -2]"
      ]
     },
     "execution_count": 235,
     "metadata": {},
     "output_type": "execute_result"
    }
   ],
   "source": [
    "\n",
    "sorted(set(range(-2, -101, -2)))"
   ]
  },
  {
   "cell_type": "code",
   "execution_count": null,
   "id": "76ad1004-0e89-4acb-8f65-c646233ae14e",
   "metadata": {},
   "outputs": [],
   "source": [
    "What's with all the Negativity?\n",
    "Which of the following would create a list of negative even numbers from -100 to 0 (-100 included and 0 not included)?\n",
    "[More than one option may be correct.]\n",
    "\n",
    "1. sorted(set(range(-2, -101, -2)))\n",
    "The range function, range(-2,-101) would create an empty list, as the start value is greater than the end value.\n",
    "Instead, here the inclusion of the third parameter step plays an important role. \n",
    "Since the value specified is -2 it means to consider starting value as -2 and decrease value by 2 each time. \n",
    "This would return elements as -2, -4,-6….-100. Applying a set function would create a set of the range objects.\n",
    "But applying an in-built sorted function on this set would return a sorted list, i.e., -100, -98,-96…..\n",
    "\n",
    " \n",
    "\n",
    "2. list(range(-100, -1, 2))\n",
    "The range function here creates elements from -100 with an increase in value by 2, as the step count of 2 is passed as a third argument.\n",
    "\n",
    "3. \n",
    "l = []\n",
    "for i in range(-100, 0):\n",
    "    if(i % 2 == 0):\n",
    "        l.append(i)\n",
    "l\n",
    "                                                                                 \n",
    "4.\n",
    "In this given code snippet, you are basically taking an empty list l. \n",
    "Then, first by iterating a for loop over elements in range object which has elements from -100 to 0, \n",
    "then checking if an element is even or not and if i is even you are appending to list L.\n",
    "At the end of completion of the list the list would have all the negative even elements from -100 to 0.\n",
    "This is exactly what we need."
   ]
  },
  {
   "cell_type": "code",
   "execution_count": 237,
   "id": "b53075c9-65d2-4feb-9961-61be477d14dc",
   "metadata": {},
   "outputs": [
    {
     "name": "stdout",
     "output_type": "stream",
     "text": [
      "0\n",
      "1\n",
      "2\n"
     ]
    }
   ],
   "source": [
    "#Of Fish, Birds, and Mammals\n",
    "#Using the following document, answer the following questions. What will the output of the following code be?\n",
    " \n",
    "d = {0: 'Fish', 1: 'Bird', 2: 'Mammal'}\n",
    "for i in d:\n",
    "    print(i)\n",
    "\n",
    "# By default, the iteration is over the keys.\n"
   ]
  },
  {
   "cell_type": "markdown",
   "id": "2f69fee7-53de-47df-8d4d-4390e1f8c99f",
   "metadata": {},
   "source": [
    "<b>Comprehensions</b>\n",
    "# syntax -- > [<3.output expression> <1.loop> <2.condition>]\r\n",
    "# syntax -- > [<3.output> <2.if condition> else <else res> <1.loop> ]"
   ]
  },
  {
   "cell_type": "code",
   "execution_count": 244,
   "id": "9b75a963-06d5-4375-ae1d-9b1f083ebdc3",
   "metadata": {},
   "outputs": [
    {
     "ename": "SyntaxError",
     "evalue": "invalid syntax (4267998451.py, line 1)",
     "output_type": "error",
     "traceback": [
      "\u001b[1;36m  Cell \u001b[1;32mIn[244], line 1\u001b[1;36m\u001b[0m\n\u001b[1;33m    Comprehensions are syntactic constructs that enable sequences to be built from other\u001b[0m\n\u001b[1;37m                   ^\u001b[0m\n\u001b[1;31mSyntaxError\u001b[0m\u001b[1;31m:\u001b[0m invalid syntax\n"
     ]
    }
   ],
   "source": [
    "Comprehensions are syntactic constructs that enable sequences to be built from other sequences in a clear and concise manner. \n",
    "Here, we will cover list comprehensions, dictionary- comprehensions and set comprehensions.  "
   ]
  },
  {
   "cell_type": "markdown",
   "id": "4fabf39b-7d7d-4ed2-9843-ca114bf86480",
   "metadata": {},
   "source": [
    "<b>List Comprehensions</b>"
   ]
  },
  {
   "cell_type": "code",
   "execution_count": 249,
   "id": "92dab950-23fb-4f57-b6b1-13b52c099350",
   "metadata": {},
   "outputs": [
    {
     "name": "stdout",
     "output_type": "stream",
     "text": [
      "[11, 5, 4, 6, 14]\n"
     ]
    }
   ],
   "source": [
    "l1 = [\"automobiles\", \"Honda\", \"Benz\", \"Suzuki\", \"Morris Garages\" ]\n",
    "l2 = []\n",
    "for i in l1:\n",
    "    l2.append(len(i))\n",
    "print(l2)  "
   ]
  },
  {
   "cell_type": "code",
   "execution_count": 255,
   "id": "79ed3e51-b183-48bd-b601-378665951227",
   "metadata": {},
   "outputs": [
    {
     "name": "stdout",
     "output_type": "stream",
     "text": [
      "[11, 5, 4, 6, 14]\n"
     ]
    }
   ],
   "source": [
    "l3 = [len(i) for i in l1]\n",
    "print(l3)"
   ]
  },
  {
   "cell_type": "code",
   "execution_count": null,
   "id": "d323e88e-1b04-47e7-81ce-c0e7f1c0864d",
   "metadata": {},
   "outputs": [],
   "source": [
    "Comprehensions"
   ]
  },
  {
   "cell_type": "code",
   "execution_count": 307,
   "id": "9cbc20ba-4c06-41ce-9b75-defda8755294",
   "metadata": {},
   "outputs": [
    {
     "ename": "SyntaxError",
     "evalue": "invalid syntax (2438648007.py, line 3)",
     "output_type": "error",
     "traceback": [
      "\u001b[1;36m  Cell \u001b[1;32mIn[307], line 3\u001b[1;36m\u001b[0m\n\u001b[1;33m    l2 = [ for x in l1 x**2]\u001b[0m\n\u001b[1;37m           ^\u001b[0m\n\u001b[1;31mSyntaxError\u001b[0m\u001b[1;31m:\u001b[0m invalid syntax\n"
     ]
    }
   ],
   "source": [
    "#Exercise 1: Squares of Even Numbers\n",
    "l1 = [1, 2, 3, 4, 5]\n",
    "l2 = [x**2 for x in l1 ]\n",
    "l2"
   ]
  },
  {
   "cell_type": "code",
   "execution_count": 277,
   "id": "c511e5e7-d831-4a8b-8f79-cc274deb0dff",
   "metadata": {},
   "outputs": [
    {
     "name": "stdout",
     "output_type": "stream",
     "text": [
      "['a', 'b', 'c', 'd', 'e']\n"
     ]
    }
   ],
   "source": [
    "#First Letter of Each Word\"\n",
    "word = [\"apple\", \"banana\", \"cherry\", \"date\", \"elderberry\"]\n",
    "letter = [ i[0] for i in word]\n",
    "print(letter)"
   ]
  },
  {
   "cell_type": "code",
   "execution_count": 275,
   "id": "62036243-dce6-40a6-b58d-d0ac84cc16ef",
   "metadata": {},
   "outputs": [
    {
     "name": "stdout",
     "output_type": "stream",
     "text": [
      "['a', 'b', 'c', 'd', 'e']\n"
     ]
    }
   ],
   "source": [
    "words = [\"apple\", \"banana\", \"cherry\", \"date\", \"elderberry\"]\n",
    "first_letters = [word[0] for word in words]\n",
    "print(first_letters)\n"
   ]
  },
  {
   "cell_type": "code",
   "execution_count": 295,
   "id": "4f3afa48-0217-4faa-9341-10db241155e0",
   "metadata": {},
   "outputs": [
    {
     "name": "stdout",
     "output_type": "stream",
     "text": [
      "[15, 30, 45, 60, 75, 90]\n"
     ]
    }
   ],
   "source": [
    "#Multiples of 3 and 5\n",
    "x=15\n",
    "y=10\n",
    "product = [Expression for loop(iteration) condition\n",
    "product = [x for x in range(1,100)  if x%3 == 0 and x%5 == 0]  \n",
    "print(product)"
   ]
  },
  {
   "cell_type": "code",
   "execution_count": null,
   "id": "838a9378-46dc-4eac-b928-e4ee07ff3410",
   "metadata": {},
   "outputs": [],
   "source": [
    "#Filter Words by Length\n",
    "words = [\"apple\", \"banana\", \"cherry\", \"date\", \"fig\", \"grape\"]\n",
    "\n"
   ]
  },
  {
   "cell_type": "code",
   "execution_count": 305,
   "id": "c376d161-2bc7-45e5-86b4-b88d1c64e859",
   "metadata": {},
   "outputs": [
    {
     "name": "stdout",
     "output_type": "stream",
     "text": [
      "[32.0, 50.0, 68.0, 86.0, 104.0, 212.0]\n"
     ]
    }
   ],
   "source": [
    "#Convert Temperature from Celsius to Fahrenheit\n",
    "#F = C×(9/5)+32\n",
    "celsius = [0, 10, 20, 30, 40, 100]\n",
    "faren = [ x * (9/5) + 32 for x in celsius]\n",
    "print(faren)\n"
   ]
  },
  {
   "cell_type": "code",
   "execution_count": 321,
   "id": "c90e1028-7c0f-4e0d-88f7-6838d8ae5463",
   "metadata": {},
   "outputs": [
    {
     "name": "stdout",
     "output_type": "stream",
     "text": [
      "[1, 2, 3, 4, 5]\n"
     ]
    }
   ],
   "source": [
    "#Extract Digits from a String\n",
    "import ast, sys\n",
    "text = \"a1b2c3d4e5\"\n",
    "digits = [int(i) for i in text if i.isdigit()]\n",
    "#digits = [int(char) for char in text if char.isdigit()]\n",
    "print(digits)"
   ]
  },
  {
   "cell_type": "code",
   "execution_count": 335,
   "id": "1db2294d-4785-4e55-9dea-741cecc72f9a",
   "metadata": {},
   "outputs": [
    {
     "name": "stdout",
     "output_type": "stream",
     "text": [
      "[1, 4, 3, 8, 5, 12]\n"
     ]
    }
   ],
   "source": [
    "#Given a list of integers, create a new list where each even number is doubled and odd numbers are left unchanged.\n",
    "numbers = [1, 2, 3, 4, 5, 6]\n",
    "filtered_modified = [i * 2 if i % 2 == 0 else i for i in numbers]\n",
    "print(filtered_modified)"
   ]
  },
  {
   "cell_type": "code",
   "execution_count": 351,
   "id": "a7766084-7964-43ff-8468-db167f339e45",
   "metadata": {},
   "outputs": [
    {
     "name": "stdout",
     "output_type": "stream",
     "text": [
      "['HELLO', 'WORLD', 'PYTHON', 'IS', 'AWESOME']\n"
     ]
    }
   ],
   "source": [
    "#Convert Strings to Uppercase\n",
    "words = [\"hello\", \"world\", \"python\", \"is\", \"awesome\"]\n",
    "uppercase = [i.upper() for i in words ]\n",
    "print(uppercase)"
   ]
  },
  {
   "cell_type": "code",
   "execution_count": 387,
   "id": "27401ccf-2e33-4a64-94ba-a422b3355ff1",
   "metadata": {},
   "outputs": [
    {
     "name": "stdout",
     "output_type": "stream",
     "text": [
      "['i', 'o', 'e', 'e', 'i', 'o', 'a', 'e', 'o', 'e', 'u']\n"
     ]
    }
   ],
   "source": [
    " #Extract Vowels from a String\n",
    "text = \"List comprehensions are powerful\"\n",
    "#vowels = [char for char in text if char in 'aeiouAEIOU']\n",
    "vowel = [i for i in text if i in 'aeiouAEIOU']\n",
    "print(vowel)\n",
    "\n",
    "\n",
    "#'a' or 'i' or 'e' or 'o' or 'u'"
   ]
  },
  {
   "cell_type": "code",
   "execution_count": 401,
   "id": "2c5783e8-d66a-4b8b-a52f-782b5554ff0d",
   "metadata": {},
   "outputs": [
    {
     "name": "stdout",
     "output_type": "stream",
     "text": [
      "['racecar', 'level', 'radar']\n"
     ]
    }
   ],
   "source": [
    "#Find Palindromes in a List\n",
    "words = [\"racecar\", \"hello\", \"level\", \"world\", \"radar\", \"python\"]\n",
    "palindrome = [char for char in words if char == char[::-1]]\n",
    "print(palindrome)\n",
    "#print(char)"
   ]
  },
  {
   "cell_type": "code",
   "execution_count": 409,
   "id": "6eac80a9-4749-40a5-920d-d93b7b45ce07",
   "metadata": {},
   "outputs": [
    {
     "name": "stdout",
     "output_type": "stream",
     "text": [
      "['H', 'e', 'l', 'l', 'o', 'W', 'o', 'r', 'l', 'd']\n"
     ]
    }
   ],
   "source": [
    "#Remove Non-Alphabetic Characters from a String\n",
    "text = \"Hello, World! 123\"\n",
    "non_alpha = [char for char in text if char.isalpha()]\n",
    "print(non_alpha)"
   ]
  },
  {
   "cell_type": "code",
   "execution_count": 425,
   "id": "1088b513-9d19-4059-bc6a-b059eaa12f43",
   "metadata": {},
   "outputs": [
    {
     "name": "stdout",
     "output_type": "stream",
     "text": [
      "[1, 2, 6, 24]\n"
     ]
    }
   ],
   "source": [
    "#Calculate Factorials\n",
    "#Create a list of factorials for numbers from 1 to 5.\n",
    "import ast,sys\n",
    "import math\n",
    "#fact1 = [for i in range(1,100) fact = fact*i]\n",
    "fact1 = [ math.factorial(i) for i in range(1,5)]\n",
    "print(fact1)"
   ]
  },
  {
   "cell_type": "code",
   "execution_count": 427,
   "id": "bd45c5fc-3d76-48f6-84c2-f418e35dc55a",
   "metadata": {},
   "outputs": [
    {
     "name": "stdout",
     "output_type": "stream",
     "text": [
      "[0, 5, 10, 15]\n"
     ]
    }
   ],
   "source": [
    " #Filter Positive Numbers\n",
    "numbers = [-10, -5, 0, 5, 10, 15]\n",
    "positive = [num for num in numbers if num >= 0]\n",
    "print(positive)"
   ]
  },
  {
   "cell_type": "code",
   "execution_count": 437,
   "id": "4268c08e-5944-4d18-991b-26eeaad5b233",
   "metadata": {},
   "outputs": [
    {
     "name": "stdout",
     "output_type": "stream",
     "text": [
      "[2, 4, 6, 8, 10]\n"
     ]
    }
   ],
   "source": [
    "#Create a List of Even Numbers from 2 Lists\n",
    "#Given two lists of integers, create a new list that contains only the even numbers from both lists.\n",
    "list1 = [1, 2, 3, 4, 5]\n",
    "list2 = [6, 7, 8, 9, 10]\n",
    "list5 = [num for num in list1 + list2 if num%2 == 0]\n",
    "#list3 = [num for num in list1 if num%2 == 0]\n",
    "#list4 = [num for num in list2 if num%2 == 0]\n",
    "#list5 = list3 + list4\n",
    "print(list5)\n",
    "\n",
    "\n"
   ]
  },
  {
   "cell_type": "code",
   "execution_count": 443,
   "id": "1b1d1047-9b41-42b0-b2a2-b06e4e2e5f7e",
   "metadata": {},
   "outputs": [
    {
     "name": "stdout",
     "output_type": "stream",
     "text": [
      "['L', 'i', 's', 't', 'c', 'o', 'm', 'p', 'r', 'e', 'h', 'e', 'n', 's', 'i', 'o', 'n', 's', 'a', 'r', 'e', 'c', 'o', 'o', 'l']\n"
     ]
    }
   ],
   "source": [
    "#Remove Spaces from a String\n",
    "#Given a string, create a list of characters from the string excluding any spaces.\n",
    "text = \"List comprehensions are cool\"\n",
    "spaces = [char for char in text if char != \" \"]\n",
    "print(spaces)\n"
   ]
  },
  {
   "cell_type": "code",
   "execution_count": 447,
   "id": "6fa53a9d-6bb6-4f13-b0f7-c794f71aacac",
   "metadata": {},
   "outputs": [
    {
     "ename": "SyntaxError",
     "evalue": "invalid syntax (1307679168.py, line 4)",
     "output_type": "error",
     "traceback": [
      "\u001b[1;36m  Cell \u001b[1;32mIn[447], line 4\u001b[1;36m\u001b[0m\n\u001b[1;33m    sum_digits = [num for num in numbers num[i].sum()]\u001b[0m\n\u001b[1;37m                                         ^\u001b[0m\n\u001b[1;31mSyntaxError\u001b[0m\u001b[1;31m:\u001b[0m invalid syntax\n"
     ]
    }
   ],
   "source": [
    "#Sum of Digits in a List\n",
    "#Given a list of numbers, create a new list containing the sum of the digits of each number.\n",
    "numbers = [123, 456, 789]\n",
    "sum_digits = [num for num in numbers num[i].sum()]\n",
    "print(sum_digits)\n",
    "\n",
    "\n"
   ]
  },
  {
   "cell_type": "code",
   "execution_count": 449,
   "id": "097f8b1c-d5c3-42b0-aa25-2e575eb486f1",
   "metadata": {},
   "outputs": [
    {
     "name": "stdout",
     "output_type": "stream",
     "text": [
      "[5, 6, 6]\n"
     ]
    }
   ],
   "source": [
    "#Calculate the Length of Each Word in a List\n",
    "#Given a list of words, create a new list containing the length of each\n",
    "words = [\"apple\", \"banana\", \"cherry\"]\n",
    "length_of_each_list = [int(len(char)) for char in words]\n",
    "print(length_of_each_list)"
   ]
  },
  {
   "cell_type": "code",
   "execution_count": 455,
   "id": "85a97f10-a581-4e3c-8796-c4afb4076f7a",
   "metadata": {},
   "outputs": [
    {
     "name": "stdout",
     "output_type": "stream",
     "text": [
      "[125, 216, 343, 512, 729, 1000]\n"
     ]
    }
   ],
   "source": [
    "# cube of all even numbers from range 5,11\n",
    "\n",
    "#cube = [num**3 for num in range(5,11)]\n",
    "#print(cube)\n",
    "print([num**3 for num in range(5,11)])"
   ]
  },
  {
   "cell_type": "code",
   "execution_count": 468,
   "id": "2aa6cecc-1186-45cb-bfeb-c8a53d9c5c1c",
   "metadata": {},
   "outputs": [
    {
     "name": "stdout",
     "output_type": "stream",
     "text": [
      "['ODD', 'EVEN', 'ODD', 'EVEN', 'ODD', 'EVEN', 'ODD', 'EVEN', 'ODD', 'EVEN']\n"
     ]
    }
   ],
   "source": [
    "# print even and odd based on condition(1,11)\n",
    "even = [\"EVEN\" if num%2 == 0  else \"ODD\" for num in range(1,11)]\n",
    "print(even)\n",
    "\n",
    "\n"
   ]
  },
  {
   "cell_type": "code",
   "execution_count": 478,
   "id": "2a9bac30-423d-419f-86c0-b8b454b6d9e9",
   "metadata": {},
   "outputs": [
    {
     "name": "stdout",
     "output_type": "stream",
     "text": [
      "['FAIL', 'PASS', 'PASS', 'FAIL', 'PASS']\n"
     ]
    }
   ],
   "source": [
    "# pass or fail\n",
    "marks = [23,56,76,12,90]\n",
    "result = [\"PASS\" if num >= 35 else \"FAIL\" for num in marks]\n",
    "print(result)"
   ]
  },
  {
   "cell_type": "code",
   "execution_count": 480,
   "id": "05358e78-7653-4dd5-999b-8f7ca997f945",
   "metadata": {},
   "outputs": [
    {
     "name": "stdout",
     "output_type": "stream",
     "text": [
      "['POSITIVE', 'POSITIVE', 'NEGETIVE', 'POSITIVE', 'POSITIVE', 'POSITIVE', 'NEGETIVE']\n"
     ]
    }
   ],
   "source": [
    "# nested if else\n",
    "digits = [0,34,-23,67,20,0,-5]\n",
    "result = [\"POSITIVE\" if num>=0 else \"NEGETIVE\" for num in digits]\n",
    "print(result)"
   ]
  },
  {
   "cell_type": "code",
   "execution_count": 482,
   "id": "b8e3656d-1a59-4b47-bd2c-23dd59001004",
   "metadata": {},
   "outputs": [
    {
     "data": {
      "text/plain": [
       "['Apple', 'Cherry', 'Strawberry', 'Orange']"
      ]
     },
     "execution_count": 482,
     "metadata": {},
     "output_type": "execute_result"
    }
   ],
   "source": [
    "fruits = ['apple','cherry','strawberry','orange']\n",
    "[f.capitalize()    for f in fruits]"
   ]
  },
  {
   "cell_type": "code",
   "execution_count": 508,
   "id": "8a4f8ace-a00d-4bed-b4a3-186e83be02ad",
   "metadata": {},
   "outputs": [
    {
     "name": "stdout",
     "output_type": "stream",
     "text": [
      "[1, 4, 9, 16, 25]\n"
     ]
    }
   ],
   "source": [
    "#List Comprehension\n",
    "#Description\n",
    "#You are given an integer 'n' as the input. Create a list comprehension containing the squares of the integers from 1 till n^2 (including 1 and n), and print the list. \n",
    "#For example, if the input is 4, the output should be a list as follows:\n",
    "[1, 4, 9, 16]\n",
    "#The input integer 'n' is stored in the variable 'n'. \n",
    "\n",
    "integers = 5\n",
    "square = [n**2 for n in range(1,integers+1)]\n",
    "print(square)\n"
   ]
  },
  {
   "cell_type": "code",
   "execution_count": 526,
   "id": "140744c5-a651-45dd-a4ce-f60cba81e5a8",
   "metadata": {},
   "outputs": [
    {
     "name": "stdout",
     "output_type": "stream",
     "text": [
      "['old', 'apple', 'item', 'euphoria']\n"
     ]
    }
   ],
   "source": [
    "#List Comprehensions\n",
    "#Description\n",
    "#Extract the words that start with a vowel from a list input_list=[wood, old, apple, big, item, euphoria] using list comprehensions.\n",
    "#Sample Input:\n",
    "#['wood','old','apple','big','item','euphoria']\n",
    "#Sample Output:\n",
    "#﻿['old', 'apple', 'item', 'euphoria']\n",
    "input_list=['wood','old','apple','big','item','euphoria']\n",
    "print([word for word in input_list if word[0] in 'aeiou'])\n",
    "#print(vowels)"
   ]
  },
  {
   "cell_type": "code",
   "execution_count": 528,
   "id": "980cb859-7094-4c5c-9e0a-8cfd46063fd1",
   "metadata": {},
   "outputs": [],
   "source": [
    "input_list = list(range(1,100))\n",
    "output_dict = {}\n",
    "\n",
    "for val in input_list:\n",
    "    if val % 3 == 0:\n",
    "        output_dict[val] = val**3\n",
    "print(output_dict)"
   ]
  },
  {
   "cell_type": "code",
   "execution_count": 542,
   "id": "e0a4a40e-a651-4abb-8372-e1c201d6c9dc",
   "metadata": {},
   "outputs": [
    {
     "name": "stdout",
     "output_type": "stream",
     "text": [
      "{99: 970299}\n"
     ]
    }
   ],
   "source": [
    "input_list = list(range(1,100))\n",
    "output_dict =  {val : val**3 for var in input_list if val % 3 == 0}\n",
    "print(output_dict)\n",
    "    "
   ]
  },
  {
   "cell_type": "code",
   "execution_count": 544,
   "id": "78ccecb3-8921-423e-b82b-b3b886c1226b",
   "metadata": {},
   "outputs": [
    {
     "name": "stdout",
     "output_type": "stream",
     "text": [
      "['ad', 'ae', 'af', 'bd', 'be', 'bf', 'cd', 'ce', 'cf']\n"
     ]
    }
   ],
   "source": [
    "#List Comprehension\n",
    "#What will the output of the following code be?\n",
    "\n",
    "print([i+j for i in \"abc\" for j in \"def\"])"
   ]
  },
  {
   "cell_type": "code",
   "execution_count": 546,
   "id": "664778e8-85a3-4a89-b6cf-86167f131635",
   "metadata": {},
   "outputs": [
    {
     "name": "stdout",
     "output_type": "stream",
     "text": [
      "{'A': 'aaa', 'C': 'ccc', 'B': 'bbb', 'D': 'ddd'}\n"
     ]
    }
   ],
   "source": [
    "#Dictionary Comprehension\n",
    "#What will the output of the following code be?\n",
    "\n",
    "d = {x.upper(): x*3 for x in 'acbd'}\n",
    "print(d)"
   ]
  },
  {
   "cell_type": "code",
   "execution_count": 552,
   "id": "56d35817-7a50-4681-9ea1-4dffc18d0f5c",
   "metadata": {},
   "outputs": [
    {
     "data": {
      "text/plain": [
       "-5"
      ]
     },
     "execution_count": 552,
     "metadata": {},
     "output_type": "execute_result"
    }
   ],
   "source": [
    "def fun(a,b):\n",
    "    return(a+b)*(a-b)\n",
    "fun(2,3)"
   ]
  },
  {
   "cell_type": "code",
   "execution_count": 554,
   "id": "bff5de49-8b31-4d97-8ab5-2ad33f4e1f00",
   "metadata": {},
   "outputs": [
    {
     "data": {
      "text/plain": [
       "11"
      ]
     },
     "execution_count": 554,
     "metadata": {},
     "output_type": "execute_result"
    }
   ],
   "source": [
    "def add(a,b):\n",
    "    return(a+b)\n",
    "add(5,6)"
   ]
  },
  {
   "cell_type": "code",
   "execution_count": 562,
   "id": "80dfd43c-69af-4b3d-8f15-ad9abd8d460c",
   "metadata": {},
   "outputs": [
    {
     "data": {
      "text/plain": [
       "26.0"
      ]
     },
     "execution_count": 562,
     "metadata": {},
     "output_type": "execute_result"
    }
   ],
   "source": [
    "def operation(a,b):\n",
    " a = a**2\n",
    " b = b**2\n",
    " c =(a+b)/2\n",
    " return c\n",
    "\n",
    "operation(4,6)"
   ]
  },
  {
   "cell_type": "code",
   "execution_count": 568,
   "id": "0b528cf4-8024-4a41-a6f4-3131ae82f6cb",
   "metadata": {},
   "outputs": [
    {
     "name": "stdout",
     "output_type": "stream",
     "text": [
      "Name:  Ashu\n",
      "Age: 30\n"
     ]
    }
   ],
   "source": [
    "def func(name, age):\n",
    " print(\"Name: \",name)\n",
    " print(\"Age:\", age)\n",
    "\n",
    "func(\"Ashu\", 30)"
   ]
  },
  {
   "cell_type": "code",
   "execution_count": 580,
   "id": "0c9e1bc1-824c-4930-98e7-44ad45aa5d7f",
   "metadata": {},
   "outputs": [
    {
     "name": "stdout",
     "output_type": "stream",
     "text": [
      "name :  Ashwini\n",
      "age :  35\n",
      "city :  New York\n"
     ]
    }
   ],
   "source": [
    "def func(name, age = 35, city = \"New York\"):\n",
    "    print(\"name : \", name)\n",
    "    print(\"age : \", age)\n",
    "    print(\"city : \", city)\n",
    "\n",
    "func(name = \"Ashwini\")"
   ]
  },
  {
   "cell_type": "markdown",
   "id": "10fc099d-8781-4f34-aab7-50a0a0df383c",
   "metadata": {},
   "source": [
    "Lambda Function"
   ]
  },
  {
   "cell_type": "code",
   "execution_count": 605,
   "id": "75e1f540-7128-459f-9639-1c0c9310b2dc",
   "metadata": {},
   "outputs": [
    {
     "data": {
      "text/plain": [
       "'EVEN'"
      ]
     },
     "execution_count": 605,
     "metadata": {},
     "output_type": "execute_result"
    }
   ],
   "source": [
    "# Write a lambda function to check a number is even or odd\n",
    "x = lambda i: \"EVEN\" if i % 2 == 0 else \"ODD\"\n",
    "x(10)\n"
   ]
  },
  {
   "cell_type": "code",
   "execution_count": 623,
   "id": "5dff4f98-228f-446c-976f-793e29145320",
   "metadata": {},
   "outputs": [],
   "source": [
    "x= [\"EVEN\" if i % 2 == 0  else \"ODD\" for i in range(1,10)]"
   ]
  },
  {
   "cell_type": "code",
   "execution_count": 619,
   "id": "d6a8649f-e793-4f6b-9d82-ca6fa237d670",
   "metadata": {},
   "outputs": [
    {
     "name": "stdout",
     "output_type": "stream",
     "text": [
      "['ODD', 'EVEN', 'ODD', 'EVEN', 'ODD', 'EVEN', 'ODD', 'EVEN', 'ODD']\n"
     ]
    }
   ],
   "source": [
    "x = [\"EVEN\" if i % 2 == 0 else \"ODD\" for i in range(1, 10)]\n",
    "print(x)"
   ]
  },
  {
   "cell_type": "code",
   "execution_count": 631,
   "id": "c9250c4a-9198-45ac-8e95-8e88c648efb4",
   "metadata": {},
   "outputs": [
    {
     "data": {
      "text/plain": [
       "8"
      ]
     },
     "execution_count": 631,
     "metadata": {},
     "output_type": "execute_result"
    }
   ],
   "source": [
    "#Function\n",
    "#Description\n",
    "#Create a function squared(), which takes x and y as arguments and returns the x**y value. \n",
    "#For e.g., if x = 2 and y = 3 , then the output is 8.\n",
    "def squared(x,y):\n",
    "    return(x**y)\n",
    "squared(2,3)"
   ]
  },
  {
   "cell_type": "code",
   "execution_count": 635,
   "id": "314dcdf2-ff06-4c25-87d2-735d8c0fd2a5",
   "metadata": {},
   "outputs": [
    {
     "ename": "TypeError",
     "evalue": "func() missing 1 required positional argument: 'y'",
     "output_type": "error",
     "traceback": [
      "\u001b[1;31m---------------------------------------------------------------------------\u001b[0m",
      "\u001b[1;31mTypeError\u001b[0m                                 Traceback (most recent call last)",
      "Cell \u001b[1;32mIn[635], line 8\u001b[0m\n\u001b[0;32m      5\u001b[0m \u001b[38;5;28;01mdef\u001b[39;00m \u001b[38;5;21mfunc\u001b[39m(x, y):\n\u001b[0;32m      6\u001b[0m     z \u001b[38;5;241m=\u001b[39m x \u001b[38;5;241m*\u001b[39m y \u001b[38;5;241m+\u001b[39m x \u001b[38;5;241m+\u001b[39m y\n\u001b[1;32m----> 8\u001b[0m func(\u001b[38;5;241m2\u001b[39m)\n",
      "\u001b[1;31mTypeError\u001b[0m: func() missing 1 required positional argument: 'y'"
     ]
    }
   ],
   "source": [
    "##To Err is Human\n",
    "#Identify the error/errors in the given code to apply the function \n",
    "#(x∗y+x+y)on x,y and finally return the value.\n",
    "\n",
    "def func(x, y):\n",
    "    z = x * y + x + y\n",
    "\n",
    "func(2)\n",
    "#(More than one option may be correct.)"
   ]
  },
  {
   "cell_type": "code",
   "execution_count": 643,
   "id": "601ef334-d727-41ca-b54d-a0c8ef78d4c9",
   "metadata": {},
   "outputs": [
    {
     "data": {
      "text/plain": [
       "3"
      ]
     },
     "execution_count": 643,
     "metadata": {},
     "output_type": "execute_result"
    }
   ],
   "source": [
    "#Lambda\n",
    "#Description\n",
    "#Create a lambda function 'greater', which takes two arguments x and y and return x if x>y otherwise y.\n",
    "#If x = 2 and y= 3, then the output should be 3.\n",
    "#Sample Input:\n",
    "#['9','3']\n",
    "#Sample Output:\n",
    "#﻿9\n",
    "\n",
    "a = lambda x,y: x if x>y else y\n",
    "a(2,3)"
   ]
  },
  {
   "cell_type": "code",
   "execution_count": 649,
   "id": "99d2c07b-03c3-440c-9c44-ef85d1f4ff8e",
   "metadata": {},
   "outputs": [
    {
     "data": {
      "text/plain": [
       "9996"
      ]
     },
     "execution_count": 649,
     "metadata": {},
     "output_type": "execute_result"
    }
   ],
   "source": [
    "#Lambdas\n",
    "#What is the output of this program?\n",
    "\n",
    "min = (lambda x, y: x if x < y else y)\n",
    "min(101*99, 102*98)\n",
    "\n",
    "9996\n",
    "#The min function here returns the minimum of two values passed as arguments to the function. \n",
    "#So passing 101*99 and 102*98 would return 102*98, in other words, 9996."
   ]
  },
  {
   "cell_type": "code",
   "execution_count": 651,
   "id": "d44a0774-c9d8-4a0b-8f62-bd926cee8199",
   "metadata": {},
   "outputs": [
    {
     "data": {
      "text/plain": [
       "23"
      ]
     },
     "execution_count": 651,
     "metadata": {},
     "output_type": "execute_result"
    }
   ],
   "source": [
    "#Function Call for a Function Call\n",
    "#What would be the output of the following code?\n",
    "\n",
    "def func(x, y = 1):\n",
    "    z = x * y + x + y\n",
    "    return z\n",
    "\n",
    "func(2, func(3))\n",
    "#There is no error in the piece of code above; it successfully executes. The function call f(2,f(3)) has two parts. \n",
    "First, the function call f(3), which involves a single argument, works fine because one of the two parameters used in a function definition is a default parameter. \n",
    "Second, the value obtained from f(3), which is 7, would become the second parameter in the function call, and this value updates the default value of y from 1 to 7. "
   ]
  },
  {
   "cell_type": "code",
   "execution_count": 653,
   "id": "b5cfd886-264d-4fca-9f80-e0a1f858db93",
   "metadata": {},
   "outputs": [
    {
     "ename": "TypeError",
     "evalue": "func() missing 1 required positional argument: 'y'",
     "output_type": "error",
     "traceback": [
      "\u001b[1;31m---------------------------------------------------------------------------\u001b[0m",
      "\u001b[1;31mTypeError\u001b[0m                                 Traceback (most recent call last)",
      "Cell \u001b[1;32mIn[653], line 8\u001b[0m\n\u001b[0;32m      5\u001b[0m     z \u001b[38;5;241m=\u001b[39m x \u001b[38;5;241m*\u001b[39m y \u001b[38;5;241m+\u001b[39m x \u001b[38;5;241m+\u001b[39m y\n\u001b[0;32m      6\u001b[0m     \u001b[38;5;28;01mreturn\u001b[39;00m z\n\u001b[1;32m----> 8\u001b[0m func(\u001b[38;5;241m2\u001b[39m, func(\u001b[38;5;241m3\u001b[39m))\n",
      "\u001b[1;31mTypeError\u001b[0m: func() missing 1 required positional argument: 'y'"
     ]
    }
   ],
   "source": [
    "#Function Call for a Function Call - II\n",
    "#What would be the output of the following code?\n",
    "\n",
    "def func(x, y):\n",
    "    z = x * y + x + y\n",
    "    return z\n",
    "\n",
    "func(2, func(3))\n",
    "#ERROR\n",
    "#An error is thrown on executing the given piece of code.\n",
    "#In the function definition, both x and y are required parameters. \n",
    "#So, the function call would throw an error if only one argument is given.\n",
    "#Here, f(3) is taking only one argument; so, this leads to an error."
   ]
  },
  {
   "cell_type": "code",
   "execution_count": 655,
   "id": "1b77be40-6217-4107-9d09-921f2809d147",
   "metadata": {},
   "outputs": [
    {
     "data": {
      "text/plain": [
       "35"
      ]
     },
     "execution_count": 655,
     "metadata": {},
     "output_type": "execute_result"
    }
   ],
   "source": [
    "def func(x = 1 ,y = 2):\n",
    "    z = x * y + x + y\n",
    "    return z\n",
    "\n",
    "func(2, func(3))\n",
    "#In the function definition, both x and y are assigned a default value of 1 and 2, respectively. \n",
    "#Now, during the function call, if two values are passed as arguments, \n",
    "#the values of x and y will be updated as per the argument values and as used in the function. \n",
    "#The tricky part would be when you pass a single argument; \n",
    "#this argument will be assigned to the parameter that comes first in the definition.\n",
    "#fun(3) would assign 3 as the value of x, and y remains with the same default value, and the function returns 3 * 2+ 3+2 = 11.\n",
    "#func(2,func(3)) would assign 2 as the value of x and 11 as the value of y. \n",
    "#So now, the function execution would be as shown below:\n",
    "#2 * 11 + 11 +2\n",
    "#While passing the arguments, you may want to maintain the value of x as the default but update the value of y to 3 and then use the concept of keyword argument. f(y=3) would keep the value of x as 1  but would update the value of y to 3.\n",
    "\n"
   ]
  },
  {
   "cell_type": "code",
   "execution_count": 659,
   "id": "e7b140fa-5c34-4b53-8279-db4eafed4dea",
   "metadata": {},
   "outputs": [
    {
     "ename": "TypeError",
     "evalue": "unsupported operand type(s) for ** or pow(): 'list' and 'int'",
     "output_type": "error",
     "traceback": [
      "\u001b[1;31m---------------------------------------------------------------------------\u001b[0m",
      "\u001b[1;31mTypeError\u001b[0m                                 Traceback (most recent call last)",
      "Cell \u001b[1;32mIn[659], line 10\u001b[0m\n\u001b[0;32m      7\u001b[0m \u001b[38;5;28;01mdef\u001b[39;00m \u001b[38;5;21mfunc\u001b[39m(y):\n\u001b[0;32m      8\u001b[0m     \u001b[38;5;28;01mreturn\u001b[39;00m (x\u001b[38;5;241m*\u001b[39m\u001b[38;5;241m*\u001b[39m\u001b[38;5;241m2\u001b[39m) , \n\u001b[1;32m---> 10\u001b[0m ans_list \u001b[38;5;241m=\u001b[39m [func(x) \u001b[38;5;28;01mfor\u001b[39;00m  x \u001b[38;5;129;01min\u001b[39;00m L1]\n\u001b[0;32m     11\u001b[0m ans_list\n",
      "Cell \u001b[1;32mIn[659], line 8\u001b[0m, in \u001b[0;36mfunc\u001b[1;34m(y)\u001b[0m\n\u001b[0;32m      7\u001b[0m \u001b[38;5;28;01mdef\u001b[39;00m \u001b[38;5;21mfunc\u001b[39m(y):\n\u001b[1;32m----> 8\u001b[0m     \u001b[38;5;28;01mreturn\u001b[39;00m (x\u001b[38;5;241m*\u001b[39m\u001b[38;5;241m*\u001b[39m\u001b[38;5;241m2\u001b[39m) ,\n",
      "\u001b[1;31mTypeError\u001b[0m: unsupported operand type(s) for ** or pow(): 'list' and 'int'"
     ]
    }
   ],
   "source": [
    "#Function Parameters\n",
    "#Functions can be used inside a list comprehension too. An example to create a list, \n",
    "#the elements of which would be the result of applying the function x2−2x−2  on each element in\n",
    "#the list = [2, 7, 8, 10, 3] is shown below:\n",
    "L1 = [2, 7, 8, 10, 3]\n",
    "\n",
    "def func(y):\n",
    "    return (x**2) , \n",
    "\n",
    "ans_list = [func(x) for  x in L1]\n",
    "ans_list"
   ]
  },
  {
   "cell_type": "markdown",
   "id": "664f61bb-a1b9-46a5-8424-75ce7fe842a1",
   "metadata": {},
   "source": [
    "<b>MAP_REDUCE_FILTER</b>"
   ]
  },
  {
   "cell_type": "code",
   "execution_count": null,
   "id": "7a354074-7784-4496-b6be-3035028a0f2b",
   "metadata": {},
   "outputs": [],
   "source": [
    "The map, filter and reduce methods, that offer us sophisticated and faster method implementation.\n",
    "Starting with Map, Map is a function that works like list comprehensions and for loops.\n",
    "\n",
    "The syntax of the map function looks as shown below:\n",
    "\n",
    "map(function,iterable object)\n",
    "\n",
    "The function here can be a lambda function or a function object.\n",
    "The iterable object can be a string, list, tuple, set or dictionary."
   ]
  },
  {
   "cell_type": "code",
   "execution_count": 667,
   "id": "7e1b7e9c-b8f7-4c12-aaae-ddfe72ae708f",
   "metadata": {},
   "outputs": [
    {
     "name": "stdout",
     "output_type": "stream",
     "text": [
      "[1, 4, 9, 16, 25, 36, 49, 64, 81]\n"
     ]
    }
   ],
   "source": [
    "list_numbers = [1,2,3,4,5,6,7,8,9]\n",
    "sample =list(map(lambda x: x**2, list_numbers))\n",
    "print(sample)"
   ]
  },
  {
   "cell_type": "code",
   "execution_count": 691,
   "id": "c475ee21-45ca-4a64-b88c-77b24fff684e",
   "metadata": {},
   "outputs": [
    {
     "name": "stdout",
     "output_type": "stream",
     "text": [
      "[1, 4, 9, 16, 25, 36, 49]\n"
     ]
    }
   ],
   "source": [
    "list1 = [1,2,3,4,5,6,7]\n",
    "def squareit(a):\n",
    "   c = a**2\n",
    "   return c\n",
    "    \n",
    "print(list(map(squareit, list1)))\n"
   ]
  },
  {
   "cell_type": "code",
   "execution_count": null,
   "id": "070af5ab-5fc1-4dd4-9c11-803616d91d49",
   "metadata": {},
   "outputs": [],
   "source": []
  },
  {
   "cell_type": "code",
   "execution_count": null,
   "id": "68037847-dc0c-4f00-a0d7-1ab5309c8a09",
   "metadata": {},
   "outputs": [],
   "source": []
  },
  {
   "cell_type": "code",
   "execution_count": null,
   "id": "bc880179-b7f5-4ac9-affd-e2f13ff297c8",
   "metadata": {},
   "outputs": [],
   "source": []
  },
  {
   "cell_type": "code",
   "execution_count": 669,
   "id": "7e294781-0b97-4d37-bf92-4d3a8dd22335",
   "metadata": {},
   "outputs": [
    {
     "name": "stdout",
     "output_type": "stream",
     "text": [
      "[2, 4, 6, 8]\n"
     ]
    }
   ],
   "source": [
    "list_numbers = (1,2,3,4)\n",
    "sample_map = map(lambda x: x*2, list_numbers)\n",
    "print(list(sample_map))"
   ]
  },
  {
   "cell_type": "code",
   "execution_count": null,
   "id": "322fd0ba-8ce4-4a73-a8af-aac78188336e",
   "metadata": {},
   "outputs": [],
   "source": [
    "'Filter' is similar to map function, only distinguishing feature being that it requires the function to look \n",
    "for a condition and then returns only those elements from the collection that satisfy the condition.\n",
    "The syntax of the filter function looks as shown below:\n",
    "\n",
    "filter(function,iterable object)\n",
    "\n",
    "The function object passed to the filter function should always return a boolean value.\n",
    "The iterable object can be a string, list, tuple, set or dictionary."
   ]
  },
  {
   "cell_type": "code",
   "execution_count": 675,
   "id": "09ab48da-0418-497d-a938-b542cf264869",
   "metadata": {},
   "outputs": [
    {
     "ename": "TypeError",
     "evalue": "'list' object is not callable",
     "output_type": "error",
     "traceback": [
      "\u001b[1;31m---------------------------------------------------------------------------\u001b[0m",
      "\u001b[1;31mTypeError\u001b[0m                                 Traceback (most recent call last)",
      "Cell \u001b[1;32mIn[675], line 3\u001b[0m\n\u001b[0;32m      1\u001b[0m students_data \u001b[38;5;241m=\u001b[39m {\u001b[38;5;241m1\u001b[39m:[\u001b[38;5;124m'\u001b[39m\u001b[38;5;124mSam\u001b[39m\u001b[38;5;124m'\u001b[39m, \u001b[38;5;241m15\u001b[39m] , \u001b[38;5;241m2\u001b[39m:[\u001b[38;5;124m'\u001b[39m\u001b[38;5;124mRob\u001b[39m\u001b[38;5;124m'\u001b[39m,\u001b[38;5;241m18\u001b[39m], \u001b[38;5;241m3\u001b[39m:[\u001b[38;5;124m'\u001b[39m\u001b[38;5;124mKyle\u001b[39m\u001b[38;5;124m'\u001b[39m, \u001b[38;5;241m16\u001b[39m], \u001b[38;5;241m4\u001b[39m:[\u001b[38;5;124m'\u001b[39m\u001b[38;5;124mCornor\u001b[39m\u001b[38;5;124m'\u001b[39m,\u001b[38;5;241m19\u001b[39m], \u001b[38;5;241m5\u001b[39m:[\u001b[38;5;124m'\u001b[39m\u001b[38;5;124mTrump\u001b[39m\u001b[38;5;124m'\u001b[39m,\u001b[38;5;241m20\u001b[39m]}\n\u001b[1;32m----> 3\u001b[0m data \u001b[38;5;241m=\u001b[39m \u001b[38;5;28mlist\u001b[39m(\u001b[38;5;28mfilter\u001b[39m(\u001b[38;5;28;01mlambda\u001b[39;00m x : x[i] \u001b[38;5;241m>\u001b[39m \u001b[38;5;241m18\u001b[39m, students_data\u001b[38;5;241m.\u001b[39mvalues()))\n",
      "\u001b[1;31mTypeError\u001b[0m: 'list' object is not callable"
     ]
    }
   ],
   "source": [
    "students_data = {1:['Sam', 15] , 2:['Rob',18], 3:['Kyle', 16], 4:['Cornor',19], 5:['Trump',20]}\n",
    "\n",
    "data = list(filter(lambda x : x[i] > 18, students_data.values()))"
   ]
  },
  {
   "cell_type": "code",
   "execution_count": null,
   "id": "ef1426cd-c69e-4d82-b270-9abee3ff7a66",
   "metadata": {},
   "outputs": [],
   "source": []
  }
 ],
 "metadata": {
  "kernelspec": {
   "display_name": "Python 3 (ipykernel)",
   "language": "python",
   "name": "python3"
  },
  "language_info": {
   "codemirror_mode": {
    "name": "ipython",
    "version": 3
   },
   "file_extension": ".py",
   "mimetype": "text/x-python",
   "name": "python",
   "nbconvert_exporter": "python",
   "pygments_lexer": "ipython3",
   "version": "3.12.4"
  }
 },
 "nbformat": 4,
 "nbformat_minor": 5
}
