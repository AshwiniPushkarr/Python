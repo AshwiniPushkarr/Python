{
 "cells": [
  {
   "cell_type": "markdown",
   "metadata": {},
   "source": [
    "## Python DataStructures ##"
   ]
  },
  {
   "cell_type": "code",
   "execution_count": null,
   "metadata": {},
   "outputs": [],
   "source": [
    "Python provides several built-in data structures to efficiently store and manipulate data."
   ]
  },
  {
   "cell_type": "code",
   "execution_count": 6,
   "metadata": {},
   "outputs": [],
   "source": [
    "#Python provides several built-in data structures to efficiently store and manipulate data. Here's an overview of the most commonly used ones:\n",
    "\n",
    "#1. Lists\n",
    "# A list in Python is a versatile, ordered, and mutable data structure that can store a collection of items of any data type.\n",
    "#Description: Ordered, mutable (changeable) collections of items. Items can be of different types.\n",
    "#Syntax: my_list = [1, 2, 3, \"apple\", 5.6]\n",
    "#Key Features:\n",
    "#Indexing and slicing supported (my_list[0], my_list[1:3]).\n",
    "#Methods: append(), extend(), insert(), remove(), pop(), sort(), etc.\n",
    "\n",
    "\n",
    "#2. Tuples\n",
    "# A tuple is an immutable and ordered collection of items in Python.\n",
    "#Description: Ordered, immutable collections of items.\n",
    "#Syntax: my_tuple = (1, 2, 3, \"banana\")\n",
    "#Key Features:\n",
    "#Used for data that shouldn't change.\n",
    "#Supports indexing and slicing.\n",
    "\n",
    "    \n",
    "#3. Dictionaries\n",
    "# A dictionary in Python is an unordered, mutable collection of key-value pairs.\n",
    "#Description: Unordered collections of key-value pairs.\n",
    "#Syntax: my_dict = {\"name\": \"John\", \"age\": 30, \"city\": \"New York\"}\n",
    "#Key Features:\n",
    "#Keys are unique and immutable; values can be of any type.\n",
    "#Methods: get(), keys(), values(), update(), pop(), etc.\n",
    "\n",
    "\n",
    "#4. Sets\n",
    "#Description: Unordered collections of unique items.\n",
    "#Syntax: my_set = {1, 2, 3, 4}\n",
    "#Key Features:\n",
    "#No duplicate values.\n",
    "#Useful for operations like union, intersection, and difference.\n",
    "#Methods: add(), remove(), union(), intersection(), etc."
   ]
  },
  {
   "cell_type": "code",
   "execution_count": 14,
   "metadata": {},
   "outputs": [],
   "source": [
    "# Building an application which records a customer's detail and assign it a unique user id number generated randomly."
   ]
  },
  {
   "cell_type": "code",
   "execution_count": null,
   "metadata": {
    "colab": {
     "base_uri": "https://localhost:8080/",
     "height": 51
    },
    "colab_type": "code",
    "id": "rf6E8TiOIc4I",
    "outputId": "c33af080-0f0c-4a97-9140-cfb5c7c11755"
   },
   "outputs": [
    {
     "name": "stdout",
     "output_type": "stream",
     "text": [
      "What's your name A\n",
      "What's your number 98\n"
     ]
    }
   ],
   "source": [
    "#We would ask the user for his name and mobile number\n",
    "name= input(\"What's your name \")\n",
    "number= input(\"What's your number \")"
   ]
  },
  {
   "cell_type": "code",
   "execution_count": null,
   "metadata": {
    "colab": {
     "base_uri": "https://localhost:8080/",
     "height": 34
    },
    "colab_type": "code",
    "id": "8q1xBtdUJ1zu",
    "outputId": "70c316d8-f87e-460c-c538-f56b550e2067"
   },
   "outputs": [
    {
     "name": "stdout",
     "output_type": "stream",
     "text": [
      "682\n"
     ]
    }
   ],
   "source": [
    "from random import seed\n",
    "from random import randint\n",
    "\n",
    "# generate a three digit random integers for user id\n",
    "value = randint(100, 999)\n",
    "print(value)"
   ]
  },
  {
   "cell_type": "code",
   "execution_count": null,
   "metadata": {
    "colab": {},
    "colab_type": "code",
    "id": "HiRqwupiLFiH"
   },
   "outputs": [],
   "source": [
    "#Now if I want to store these values together I can create a list data type\n",
    "name= input(\"What's your name \")\n",
    "number= input(\"What's your number \")\n",
    "value = randint(100, 999)\n",
    "#Creating a list\n"
   ]
  },
  {
   "cell_type": "markdown",
   "metadata": {
    "colab": {},
    "colab_type": "code",
    "id": "2-YhuCWbL2G0"
   },
   "source": [
    "<h1 style=\"color:Brown\"> Lists </h1>\n",
    "\n",
    "- Lists are an ordered sequence of mixed data types.\n",
    "- Lists are written as comma-separated  elements within square brackets "
   ]
  },
  {
   "cell_type": "markdown",
   "metadata": {
    "colab_type": "text",
    "id": "pFQ6WjPZMW8h"
   },
   "source": [
    "Hmm, that works. But what if I would like to add some security and make user id un-changeable or as we call it in programming - immutable, in that case, we'll use a tuple. "
   ]
  },
  {
   "cell_type": "markdown",
   "metadata": {
    "colab_type": "text",
    "id": "Xyqh0MJlx7tr"
   },
   "source": [
    "<h1 style=\"color:Brown\"> Tuples </h1>\n",
    "\n",
    "- Tuples are an ordered sequence of mixed data types.\n",
    "- Tuples are written as comma-separated  elements within parenthesis\n"
   ]
  },
  {
   "cell_type": "code",
   "execution_count": null,
   "metadata": {
    "colab": {
     "base_uri": "https://localhost:8080/",
     "height": 35
    },
    "colab_type": "code",
    "id": "6YXvoJPax7ts",
    "outputId": "201553dc-896e-4e1b-ec30-e10e599cbc90"
   },
   "outputs": [
    {
     "data": {
      "text/plain": [
       "('disco', 12, 4.5)"
      ]
     },
     "execution_count": 1,
     "metadata": {
      "tags": []
     },
     "output_type": "execute_result"
    }
   ],
   "source": [
    "t = (\"disco\", 12, 4.5)\n",
    "t"
   ]
  },
  {
   "cell_type": "code",
   "execution_count": null,
   "metadata": {
    "colab": {
     "base_uri": "https://localhost:8080/",
     "height": 35
    },
    "colab_type": "code",
    "id": "fXqQjadkx7tx",
    "outputId": "4c5433ba-044a-4c56-f771-4b844e51e8a9"
   },
   "outputs": [
    {
     "data": {
      "text/plain": [
       "tuple"
      ]
     },
     "execution_count": 2,
     "metadata": {
      "tags": []
     },
     "output_type": "execute_result"
    }
   ],
   "source": [
    "type(t)"
   ]
  },
  {
   "cell_type": "markdown",
   "metadata": {
    "colab_type": "text",
    "id": "IGbcUO05x7t1"
   },
   "source": [
    "<h3> Tuples can be defined is various ways </h3>"
   ]
  },
  {
   "cell_type": "markdown",
   "metadata": {
    "colab_type": "text",
    "id": "jo8Ws7jlx7t1"
   },
   "source": [
    "#### A tuple can be defined without using parenthesis "
   ]
  },
  {
   "cell_type": "code",
   "execution_count": 26,
   "metadata": {
    "colab": {
     "base_uri": "https://localhost:8080/",
     "height": 35
    },
    "colab_type": "code",
    "id": "5skAlIKMx7t2",
    "outputId": "216521bd-b60c-4a61-fb1f-6f344ec077b4"
   },
   "outputs": [
    {
     "name": "stdout",
     "output_type": "stream",
     "text": [
      "1\n"
     ]
    }
   ],
   "source": [
    "sample_tuple = (1)\n",
    "print(sample_tuple)"
   ]
  },
  {
   "cell_type": "markdown",
   "metadata": {
    "colab_type": "text",
    "id": "Bsg6FL0Sx7t7"
   },
   "source": [
    "#### Single value tuple"
   ]
  },
  {
   "cell_type": "code",
   "execution_count": 28,
   "metadata": {
    "colab": {
     "base_uri": "https://localhost:8080/",
     "height": 35
    },
    "colab_type": "code",
    "id": "Klvbt3t1x7t7",
    "outputId": "8b0dace3-f880-4359-c9a0-80c448b06ab8"
   },
   "outputs": [
    {
     "name": "stdout",
     "output_type": "stream",
     "text": [
      "(1, 2, 3, 4)\n"
     ]
    }
   ],
   "source": [
    "sample_tuple = 1,2,3,4  \n",
    "print(sample_tuple)"
   ]
  },
  {
   "cell_type": "code",
   "execution_count": null,
   "metadata": {
    "colab": {},
    "colab_type": "code",
    "id": "OwR83NNBx7t_"
   },
   "outputs": [],
   "source": [
    "sample_tuple = (1,)  \n",
    "print(sample_tuple)"
   ]
  },
  {
   "cell_type": "code",
   "execution_count": null,
   "metadata": {
    "colab": {},
    "colab_type": "code",
    "id": "CRG6Lmfjx7uE"
   },
   "outputs": [],
   "source": [
    "sample_tuple1 = 1   # This is not a tuple"
   ]
  },
  {
   "cell_type": "code",
   "execution_count": null,
   "metadata": {
    "colab": {},
    "colab_type": "code",
    "id": "rZPL8Lr_x7uI"
   },
   "outputs": [],
   "source": [
    "sample_tuple2 = (1) # This is not a tuple"
   ]
  },
  {
   "cell_type": "markdown",
   "metadata": {
    "colab_type": "text",
    "id": "Yppn4X0jx7uM"
   },
   "source": [
    "### Indexing in tuples"
   ]
  },
  {
   "cell_type": "code",
   "execution_count": null,
   "metadata": {
    "colab": {},
    "colab_type": "code",
    "id": "qu5TyAOqx7uN"
   },
   "outputs": [],
   "source": [
    "t = (\"Mumbai\", 84, \"Python\",)"
   ]
  },
  {
   "cell_type": "code",
   "execution_count": null,
   "metadata": {
    "colab": {},
    "colab_type": "code",
    "id": "rAEz0yjOx7uQ"
   },
   "outputs": [],
   "source": [
    "# gives the element at index location 1\n",
    "t[1]"
   ]
  },
  {
   "cell_type": "code",
   "execution_count": null,
   "metadata": {
    "colab": {},
    "colab_type": "code",
    "id": "mqX3hCRSx7uU"
   },
   "outputs": [],
   "source": [
    "# gives the last element from tuple\n",
    "t[-1]"
   ]
  },
  {
   "cell_type": "code",
   "execution_count": null,
   "metadata": {
    "colab": {},
    "colab_type": "code",
    "id": "U_OhHbFDx7uX"
   },
   "outputs": [],
   "source": []
  },
  {
   "cell_type": "markdown",
   "metadata": {
    "colab_type": "text",
    "id": "YM3BUz1hx7uc"
   },
   "source": [
    "### Slicing"
   ]
  },
  {
   "cell_type": "code",
   "execution_count": 31,
   "metadata": {
    "colab": {},
    "colab_type": "code",
    "id": "tPP0_Pqex7uc"
   },
   "outputs": [
    {
     "data": {
      "text/plain": [
       "('Seattle', 84, 'Python')"
      ]
     },
     "execution_count": 31,
     "metadata": {},
     "output_type": "execute_result"
    }
   ],
   "source": [
    "# Slicing first 3 elements from t\n",
    "\n",
    "t = (\"Seattle\", 84, \"Python\", 5, 2, 1)\n",
    "\n",
    "t[0:3]"
   ]
  },
  {
   "cell_type": "code",
   "execution_count": 33,
   "metadata": {
    "colab": {},
    "colab_type": "code",
    "id": "vNXGkaYPx7ug"
   },
   "outputs": [
    {
     "data": {
      "text/plain": [
       "(2, 1)"
      ]
     },
     "execution_count": 33,
     "metadata": {},
     "output_type": "execute_result"
    }
   ],
   "source": [
    "# Slicing last 2 elements from t\n",
    "\n",
    "t = (\"Seattle\", 84, \"Python\", 5, 2, 1)\n",
    "\n",
    "t[-2:]"
   ]
  },
  {
   "cell_type": "code",
   "execution_count": 35,
   "metadata": {
    "colab": {},
    "colab_type": "code",
    "id": "l5lWQS4Tx7ui"
   },
   "outputs": [
    {
     "data": {
      "text/plain": [
       "6"
      ]
     },
     "execution_count": 35,
     "metadata": {},
     "output_type": "execute_result"
    }
   ],
   "source": [
    "# no. of elements in tuple t\n",
    "t = (\"Seattle\", 84, \"Python\", 5, 2, 1)\n",
    "len(t)"
   ]
  },
  {
   "cell_type": "markdown",
   "metadata": {
    "colab_type": "text",
    "id": "dfaI2Nqgx7ul"
   },
   "source": [
    "#### Cancatenating tuples"
   ]
  },
  {
   "cell_type": "code",
   "execution_count": 37,
   "metadata": {
    "colab": {
     "base_uri": "https://localhost:8080/",
     "height": 35
    },
    "colab_type": "code",
    "id": "fL0waJTCx7um",
    "outputId": "d27d45f4-864e-42c1-fa1e-ac27ecb7200f"
   },
   "outputs": [
    {
     "data": {
      "text/plain": [
       "('This', 'is', 'Session', 2, 'on', 'Tuples')"
      ]
     },
     "execution_count": 37,
     "metadata": {},
     "output_type": "execute_result"
    }
   ],
   "source": [
    "tup1 = (\"This\", \"is\", \"Session\", 2)\n",
    "tup2 = (\"on\", \"Tuples\")\n",
    "\n",
    "# Adding contents of tup2 to tup1 and storing in tup3\n",
    "\n",
    "tup3 = tup1 + tup2\n",
    "\n",
    "tup3"
   ]
  },
  {
   "cell_type": "markdown",
   "metadata": {
    "colab_type": "text",
    "id": "q9Z0-2hcx7up"
   },
   "source": [
    "#### sum() - min() - max()"
   ]
  },
  {
   "cell_type": "code",
   "execution_count": 39,
   "metadata": {
    "colab": {},
    "colab_type": "code",
    "id": "KhMnnZCux7uq"
   },
   "outputs": [
    {
     "data": {
      "text/plain": [
       "21"
      ]
     },
     "execution_count": 39,
     "metadata": {},
     "output_type": "execute_result"
    }
   ],
   "source": [
    "t = (2, 4, 3, 5, 7)\n",
    "sum(t)"
   ]
  },
  {
   "cell_type": "code",
   "execution_count": 41,
   "metadata": {
    "colab": {},
    "colab_type": "code",
    "id": "AwOw8Gmyx7ut"
   },
   "outputs": [
    {
     "data": {
      "text/plain": [
       "2"
      ]
     },
     "execution_count": 41,
     "metadata": {},
     "output_type": "execute_result"
    }
   ],
   "source": [
    "t = (2, 4, 3, 5, 7)\n",
    "min(t)"
   ]
  },
  {
   "cell_type": "code",
   "execution_count": 43,
   "metadata": {
    "colab": {},
    "colab_type": "code",
    "id": "ak8rmV4Zx7ux"
   },
   "outputs": [
    {
     "data": {
      "text/plain": [
       "7"
      ]
     },
     "execution_count": 43,
     "metadata": {},
     "output_type": "execute_result"
    }
   ],
   "source": [
    "t = (2, 4, 3, 5, 7)\n",
    "max(t)"
   ]
  },
  {
   "cell_type": "markdown",
   "metadata": {
    "colab_type": "text",
    "id": "CvpFRcNcx7u0"
   },
   "source": [
    "### Immutability of tuples"
   ]
  },
  {
   "cell_type": "code",
   "execution_count": 49,
   "metadata": {
    "colab": {},
    "colab_type": "code",
    "id": "EqwWhfs7x7u1"
   },
   "outputs": [
    {
     "ename": "TypeError",
     "evalue": "'tuple' object does not support item assignment",
     "output_type": "error",
     "traceback": [
      "\u001b[1;31m---------------------------------------------------------------------------\u001b[0m",
      "\u001b[1;31mTypeError\u001b[0m                                 Traceback (most recent call last)",
      "Cell \u001b[1;32mIn[49], line 3\u001b[0m\n\u001b[0;32m      1\u001b[0m t \u001b[38;5;241m=\u001b[39m (\u001b[38;5;124m\"\u001b[39m\u001b[38;5;124mUSA\u001b[39m\u001b[38;5;124m\"\u001b[39m, \u001b[38;5;241m4\u001b[39m, \u001b[38;5;241m3\u001b[39m, \u001b[38;5;124m\"\u001b[39m\u001b[38;5;124mDisco\u001b[39m\u001b[38;5;124m\"\u001b[39m, \u001b[38;5;241m7.5\u001b[39m, \u001b[38;5;241m4.5\u001b[39m)\n\u001b[1;32m----> 3\u001b[0m t[\u001b[38;5;241m3\u001b[39m] \u001b[38;5;241m=\u001b[39m \u001b[38;5;124m\"\u001b[39m\u001b[38;5;124mHard Rock\u001b[39m\u001b[38;5;124m\"\u001b[39m\n",
      "\u001b[1;31mTypeError\u001b[0m: 'tuple' object does not support item assignment"
     ]
    }
   ],
   "source": [
    "t = (\"USA\", 4, 3, \"Disco\", 7.5, 4.5)\n",
    "\n",
    "t[3] = \"Hard Rock\""
   ]
  },
  {
   "cell_type": "code",
   "execution_count": 51,
   "metadata": {
    "colab": {},
    "colab_type": "code",
    "id": "jRjPAQw9x7u4"
   },
   "outputs": [
    {
     "data": {
      "text/plain": [
       "('USA', 4, 3, 'Hard Rock', 7.5, 4.5)"
      ]
     },
     "execution_count": 51,
     "metadata": {},
     "output_type": "execute_result"
    }
   ],
   "source": [
    "new_t = t[0:3] + (\"Hard Rock\",) + t[4:]\n",
    "new_t"
   ]
  },
  {
   "cell_type": "markdown",
   "metadata": {
    "colab_type": "text",
    "id": "nUeqxCYqx7u6"
   },
   "source": [
    "### Sorting a tuple"
   ]
  },
  {
   "cell_type": "code",
   "execution_count": null,
   "metadata": {
    "colab": {},
    "colab_type": "code",
    "id": "eymTG_7hx7u8"
   },
   "outputs": [],
   "source": [
    "t = (2,3,6,4,8,5)\n",
    "\n",
    "sorted(t)"
   ]
  },
  {
   "cell_type": "code",
   "execution_count": null,
   "metadata": {
    "colab": {},
    "colab_type": "code",
    "id": "hljAjaa4x7u_"
   },
   "outputs": [],
   "source": [
    "x = sorted(t)\n",
    "\n",
    "tuple(x)"
   ]
  },
  {
   "cell_type": "code",
   "execution_count": null,
   "metadata": {
    "colab": {},
    "colab_type": "code",
    "id": "YERCWJbWx7vD"
   },
   "outputs": [],
   "source": [
    "# Nested Tuples\n",
    "\n",
    "t = (1,5,\"Disco\", (\"Python\", \"Java\"))\n",
    "\n",
    "# Access \"Java\" from the nested tuple\n",
    "t[3][1]"
   ]
  },
  {
   "cell_type": "markdown",
   "metadata": {
    "colab_type": "text",
    "id": "uW5tx7dPx7vH"
   },
   "source": [
    "### Packing and Unpacking In Tuples"
   ]
  },
  {
   "cell_type": "code",
   "execution_count": 57,
   "metadata": {
    "colab": {},
    "colab_type": "code",
    "id": "ZvNrF_5dx7vJ"
   },
   "outputs": [
    {
     "name": "stdout",
     "output_type": "stream",
     "text": [
      "4\n",
      "(1, 2, 3, 4)\n",
      "10\n",
      "20\n",
      "30\n"
     ]
    }
   ],
   "source": [
    "t = (1,2,3,4)     # Packing \n",
    "(a,b,c,d) = t     # Unpacking \n",
    "print (d)\n",
    "\n",
    "# Packing multiple values into a tuple\n",
    "packed_tuple = 1, 2, 3, 4\n",
    "print(packed_tuple)  # Output: (1, 2, 3, 4)\n",
    "\n",
    "# Unpacking a tuple into variables\n",
    "packed_tuple = (10, 20, 30)\n",
    "a, b, c = packed_tuple\n",
    "\n",
    "print(a)  # Output: 10\n",
    "print(b)  # Output: 20\n",
    "print(c)  # Output: 30\n"
   ]
  },
  {
   "cell_type": "markdown",
   "metadata": {
    "colab_type": "text",
    "id": "uIZxFBdCx7vO"
   },
   "source": [
    "#### dir() - to view the attributes or methods of an object"
   ]
  },
  {
   "cell_type": "code",
   "execution_count": 59,
   "metadata": {
    "colab": {},
    "colab_type": "code",
    "id": "hsvllf0nx7vP"
   },
   "outputs": [
    {
     "name": "stdout",
     "output_type": "stream",
     "text": [
      "['__add__', '__class__', '__class_getitem__', '__contains__', '__delattr__', '__dir__', '__doc__', '__eq__', '__format__', '__ge__', '__getattribute__', '__getitem__', '__getnewargs__', '__getstate__', '__gt__', '__hash__', '__init__', '__init_subclass__', '__iter__', '__le__', '__len__', '__lt__', '__mul__', '__ne__', '__new__', '__reduce__', '__reduce_ex__', '__repr__', '__rmul__', '__setattr__', '__sizeof__', '__str__', '__subclasshook__', 'count', 'index']\n"
     ]
    }
   ],
   "source": [
    "t = ()\n",
    "print(dir(t))"
   ]
  },
  {
   "cell_type": "markdown",
   "metadata": {
    "colab_type": "text",
    "id": "XHBHN4hax7vS"
   },
   "source": [
    "<h1 style=\"color:Brown\"> Lists </h1>\n",
    "\n",
    "- Lists are an ordered sequnce of mixed data types.\n",
    "- Lists are written as comma-separated  elements within square brackets"
   ]
  },
  {
   "cell_type": "code",
   "execution_count": 63,
   "metadata": {
    "colab": {},
    "colab_type": "code",
    "id": "EzFn8Qkux7vS"
   },
   "outputs": [
    {
     "data": {
      "text/plain": [
       "['USA', 23, 6, 'New York']"
      ]
     },
     "execution_count": 63,
     "metadata": {},
     "output_type": "execute_result"
    }
   ],
   "source": [
    "L = [\"USA\", 23, 6, \"New York\"]\n",
    "\n",
    "L"
   ]
  },
  {
   "cell_type": "code",
   "execution_count": 61,
   "metadata": {
    "colab": {},
    "colab_type": "code",
    "id": "ZmEshiIlx7vV"
   },
   "outputs": [
    {
     "data": {
      "text/plain": [
       "['Chemistry', 'Biology', [1989, 2004], ('Oreily', 'Pearson')]"
      ]
     },
     "execution_count": 61,
     "metadata": {},
     "output_type": "execute_result"
    }
   ],
   "source": [
    "# Nested List - list inside list\n",
    "L = [\"Chemistry\", \"Biology\", [1989, 2004], (\"Oreily\", \"Pearson\")]\n",
    "\n",
    "L"
   ]
  },
  {
   "cell_type": "code",
   "execution_count": 67,
   "metadata": {
    "colab": {},
    "colab_type": "code",
    "id": "eCmBWZCMx7vY"
   },
   "outputs": [
    {
     "data": {
      "text/plain": [
       "'Chemistry'"
      ]
     },
     "execution_count": 67,
     "metadata": {},
     "output_type": "execute_result"
    }
   ],
   "source": [
    "# Indexing\n",
    "L = [\"Chemistry\", \"Biology\", [1989, 2004], (\"Oreily\", \"Pearson\")]\n",
    "\n",
    "L[0]"
   ]
  },
  {
   "cell_type": "code",
   "execution_count": 69,
   "metadata": {
    "colab": {},
    "colab_type": "code",
    "id": "7AwJ_GDhx7vf"
   },
   "outputs": [
    {
     "data": {
      "text/plain": [
       "'Biology'"
      ]
     },
     "execution_count": 69,
     "metadata": {},
     "output_type": "execute_result"
    }
   ],
   "source": [
    "L[-3]"
   ]
  },
  {
   "cell_type": "code",
   "execution_count": 71,
   "metadata": {
    "colab": {},
    "colab_type": "code",
    "id": "sg_eiobWx7vh"
   },
   "outputs": [
    {
     "data": {
      "text/plain": [
       "'Pearson'"
      ]
     },
     "execution_count": 71,
     "metadata": {},
     "output_type": "execute_result"
    }
   ],
   "source": [
    "L[-1][-1]"
   ]
  },
  {
   "cell_type": "code",
   "execution_count": 73,
   "metadata": {
    "colab": {},
    "colab_type": "code",
    "id": "k0416Q_Qx7vk"
   },
   "outputs": [
    {
     "data": {
      "text/plain": [
       "['Chemistry', 'Biology', [1989, 2004]]"
      ]
     },
     "execution_count": 73,
     "metadata": {},
     "output_type": "execute_result"
    }
   ],
   "source": [
    "# Slicing\n",
    "\n",
    "L[0:3]"
   ]
  },
  {
   "cell_type": "code",
   "execution_count": 75,
   "metadata": {
    "colab": {},
    "colab_type": "code",
    "id": "s0bEjiD1x7vm"
   },
   "outputs": [
    {
     "name": "stdout",
     "output_type": "stream",
     "text": [
      "True\n",
      "True\n"
     ]
    }
   ],
   "source": [
    "#Membership in Lists\n",
    "\n",
    "L1 = [1,2,3,4]\n",
    "print(1 in L1)  # True\n",
    "print (8 not in L1)  # True"
   ]
  },
  {
   "cell_type": "code",
   "execution_count": 137,
   "metadata": {
    "colab": {},
    "colab_type": "code",
    "id": "Q7UXSFpjx7vp"
   },
   "outputs": [
    {
     "data": {
      "text/plain": [
       "['Chemistry', 'Biology', [1989, 2004], ('Oreily', 'Pearson'), 5, 8]"
      ]
     },
     "execution_count": 137,
     "metadata": {},
     "output_type": "execute_result"
    }
   ],
   "source": [
    "# List Concatanetion - Adding Strings\n",
    "#Method1:\n",
    "L = [\"Chemistry\", \"Biology\", [1989, 2004], (\"Oreily\", \"Pearson\")]\n",
    "new_L = L + [5, 8]\n",
    "new_L"
   ]
  },
  {
   "cell_type": "code",
   "execution_count": 93,
   "metadata": {},
   "outputs": [
    {
     "data": {
      "text/plain": [
       "['Chemistry', 'Biology', [1989, 2004], ('Oreily', 'Pearson'), 5, 8]"
      ]
     },
     "execution_count": 93,
     "metadata": {},
     "output_type": "execute_result"
    }
   ],
   "source": [
    "# List Concatanetion\n",
    "# Method 2 - using extend() keyword\n",
    "# Adds all elements of an iterable (e.g., another list) to the end of the list.\n",
    "L = [\"Chemistry\", \"Biology\", [1989, 2004], (\"Oreily\", \"Pearson\")]\n",
    "L.extend([5, 8])\n",
    "L"
   ]
  },
  {
   "cell_type": "code",
   "execution_count": 139,
   "metadata": {
    "colab": {},
    "colab_type": "code",
    "id": "xnPiiDAVx7vr",
    "outputId": "640f952e-c487-4311-df7b-f65335a25b0f"
   },
   "outputs": [
    {
     "data": {
      "text/plain": [
       "['Chemistry', 'Physics', [1989, 2004], ('Oreily', 'Pearson')]"
      ]
     },
     "execution_count": 139,
     "metadata": {},
     "output_type": "execute_result"
    }
   ],
   "source": [
    "# Replace \"Biology\" with \"Physics\" (not by keyword , but manually)\n",
    "\n",
    "L = [\"Chemistry\", \"Biology\", [1989, 2004], (\"Oreily\", \"Pearson\")]\n",
    "\n",
    "L[1] = \"Physics\"\n",
    "\n",
    "L"
   ]
  },
  {
   "cell_type": "code",
   "execution_count": 95,
   "metadata": {
    "colab": {},
    "colab_type": "code",
    "id": "MpoRElIQx7vz",
    "outputId": "9d72d287-8990-4745-be28-e2f6dd6dca4b"
   },
   "outputs": [
    {
     "data": {
      "text/plain": [
       "['Chemistry', 'Biology', [1989, 2004], ('Oreily', 'Pearson'), [5, 8]]"
      ]
     },
     "execution_count": 95,
     "metadata": {},
     "output_type": "execute_result"
    }
   ],
   "source": [
    "# append() - Adds an item to the end of the list.\n",
    "\n",
    "L = [\"Chemistry\", \"Biology\", [1989, 2004], (\"Oreily\", \"Pearson\")]\n",
    "L.append([5, 8])\n",
    "L"
   ]
  },
  {
   "cell_type": "code",
   "execution_count": null,
   "metadata": {
    "colab": {},
    "colab_type": "code",
    "id": "6zyeBmykx7v2",
    "outputId": "2d3d6c10-0610-4fb5-92a3-5498a1d8d0a7"
   },
   "outputs": [
    {
     "data": {
      "text/plain": [
       "['Biology', [1989, 2004], ('Oreily', 'Pearson')]"
      ]
     },
     "execution_count": 4,
     "metadata": {
      "tags": []
     },
     "output_type": "execute_result"
    }
   ],
   "source": [
    "# del Command - Deletes the item from the list(using item indexes).\n",
    "#Syntaxes:\n",
    "#del list[index] \n",
    "#del list[start:end]   # To delete a range of items\n",
    "#del list    #To delete the entire list\n",
    "L = [\"Chemistry\", \"Biology\", [1989, 2004], (\"Oreily\", \"Pearson\")]\n",
    "del L[0]\n",
    "L"
   ]
  },
  {
   "cell_type": "code",
   "execution_count": null,
   "metadata": {
    "colab": {},
    "colab_type": "code",
    "id": "0sPpI_ESx7v5",
    "outputId": "123a3778-be9d-40bb-acd1-4ac0fa6b244d"
   },
   "outputs": [
    {
     "data": {
      "text/plain": [
       "[('Oreily', 'Pearson')]"
      ]
     },
     "execution_count": 5,
     "metadata": {
      "tags": []
     },
     "output_type": "execute_result"
    }
   ],
   "source": [
    "del L[0:2]\n",
    "\n",
    "L"
   ]
  },
  {
   "cell_type": "code",
   "execution_count": 99,
   "metadata": {
    "colab": {},
    "colab_type": "code",
    "id": "3SEWBox5x7v9",
    "outputId": "b6734d7e-f6d6-4c57-8f3d-00537849e10b"
   },
   "outputs": [
    {
     "data": {
      "text/plain": [
       "['Chemistry', [1989, 2004], ('Oreily', 'Pearson')]"
      ]
     },
     "execution_count": 99,
     "metadata": {},
     "output_type": "execute_result"
    }
   ],
   "source": [
    "# pop() - \n",
    "#Syntax: list.pop([index])\n",
    "# index (optional): The position of the element you want to remove and return. \n",
    "#If no index is provided, pop() removes and returns the last element of the list.\n",
    "\n",
    "L = [\"Chemistry\", \"Biology\", [1989, 2004], (\"Oreily\", \"Pearson\")]\n",
    "\n",
    "L.pop(1)\n",
    "\n",
    "L"
   ]
  },
  {
   "cell_type": "code",
   "execution_count": 101,
   "metadata": {
    "colab": {},
    "colab_type": "code",
    "id": "ONBhLdiXx7wC"
   },
   "outputs": [
    {
     "data": {
      "text/plain": [
       "['Biology', [1989, 2004], ('Oreily', 'Pearson')]"
      ]
     },
     "execution_count": 101,
     "metadata": {},
     "output_type": "execute_result"
    }
   ],
   "source": [
    "# remove()\n",
    "# Syntax: list.remove(\"list_value\")\n",
    "# The remove() method is used to remove the first occurrence of a specified value from the list.\n",
    "# Unlike pop(),which removes an element by index, \n",
    "#remove() removes an element by its value.\n",
    "\n",
    "L = [\"Chemistry\", \"Biology\", [1989, 2004], (\"Oreily\", \"Pearson\")]\n",
    "L.remove(\"Chemistry\")\n",
    "L"
   ]
  },
  {
   "cell_type": "code",
   "execution_count": null,
   "metadata": {},
   "outputs": [],
   "source": [
    "# Differences between pop(), remove() and del \n",
    "\n",
    "#The pop(), remove(), and del statements are all used to remove elements from a list,\n",
    "#but they differ in how they operate and their use cases. Here's a breakdown of the differences:\n",
    "\n",
    "#1. pop()\n",
    "#Removes: Its a method used to remove an element from the list based on its index.\n",
    "#Returns: The removed element.\n",
    "#Default Behavior: If no index is provided, pop() removes and returns the last element of the list.\n",
    "# cannot use pop() to remove an entire list at a time like del cmd, instead deletes the item one by one from the last item of the list.\n",
    "#Raises Error: If the index is out of range (for example, when trying to pop from an empty list).\n",
    "\n",
    "\n",
    "#2. remove()\n",
    "#Removes: The first occurrence of the specified value (not an index).\n",
    "#Does Not Return: It does not return the removed element, it just removes it.\n",
    "#Raises Error: If the value is not found in the list, a ValueError is raised.\n",
    "\n",
    "\n",
    "#3. del\n",
    "# Its is a command\n",
    "#Removes: An element from the list based on its index or a slice of indices.\n",
    "#Does Not Return: Like remove(), it does not return the removed element(s).\n",
    "#Can Delete a Range or Entire List: You can also use del to remove multiple elements or even the entire list.\n",
    "#Raises Error: If the index is out of range, a IndexError is raised."
   ]
  },
  {
   "cell_type": "code",
   "execution_count": 134,
   "metadata": {},
   "outputs": [],
   "source": [
    "# Sorting Lists\n",
    "#Sorting lists in Python can be done in multiple ways, depending on whether you want to sort the list in place or create a new sorted list. \n",
    "#Python provides several methods and functions for sorting.\n",
    "\n",
    "#1. sort() Method\n",
    "#The sort() method sorts the list in place, modifies the original list. By default, it sorts the list in ascending order.\n",
    "#You can also sort in descending order or provide a custom sorting function.\n",
    "# The sort() function changes the original sorted list.\n",
    "#the sort() method does not return anything. \n",
    "#It sorts the list in place and modifies the original list, but it does not return a new list. Instead, it returns None.\n",
    "\n",
    "# 2. sorted() Method\n",
    "#  a new sorted list is created by  keeping the original list unchanged.\n",
    "# Return a value to the new list\n"
   ]
  },
  {
   "cell_type": "code",
   "execution_count": 141,
   "metadata": {
    "colab": {},
    "colab_type": "code",
    "id": "KRWVucN9x7wF",
    "outputId": "d9430b49-ddd9-4fc6-b94f-ddb75449f154"
   },
   "outputs": [
    {
     "data": {
      "text/plain": [
       "[9, 9, 24, 32, 65]"
      ]
     },
     "execution_count": 141,
     "metadata": {},
     "output_type": "execute_result"
    }
   ],
   "source": [
    "# Sorting Lists\n",
    "# sorts list in Ascending order\n",
    "l = [32, 24, 65, 9, 9]\n",
    "l.sort()\n",
    "l"
   ]
  },
  {
   "cell_type": "code",
   "execution_count": 115,
   "metadata": {
    "colab": {},
    "colab_type": "code",
    "id": "-Q6mESCsx7wI",
    "outputId": "16d2166a-0d92-4e87-f03e-876beba54cd8"
   },
   "outputs": [
    {
     "data": {
      "text/plain": [
       "[65, 32, 24, 9]"
      ]
     },
     "execution_count": 115,
     "metadata": {},
     "output_type": "execute_result"
    }
   ],
   "source": [
    "# Sorting Lists\n",
    "# sorts list in Descending order\n",
    "l.sort(reverse= True)\n",
    "l"
   ]
  },
  {
   "cell_type": "markdown",
   "metadata": {
    "colab_type": "text",
    "id": "2S1E7CUFx7wK"
   },
   "source": [
    "#### Difference between sort and sorted\n"
   ]
  },
  {
   "cell_type": "code",
   "execution_count": null,
   "metadata": {
    "colab": {},
    "colab_type": "code",
    "id": "9NhuhQt5x7wL",
    "outputId": "5c5ab88f-d33a-4197-d2bd-dfc0c719b6cb"
   },
   "outputs": [
    {
     "name": "stdout",
     "output_type": "stream",
     "text": [
      "['Mango', 'Orange', 'Strawberry']\n",
      "None\n"
     ]
    }
   ],
   "source": [
    "A = [\"Orange\", \"Strawberry\", \"Mango\"]\n",
    "B = A.sort() # Changes the original list and does not return a new list. Instead, it returns None. \n",
    "print(A)\n",
    "print(B)"
   ]
  },
  {
   "cell_type": "code",
   "execution_count": null,
   "metadata": {
    "colab": {},
    "colab_type": "code",
    "id": "olgbu2a6x7wQ",
    "outputId": "ea98a507-6eb9-4668-b402-eee43aea8d69"
   },
   "outputs": [
    {
     "name": "stdout",
     "output_type": "stream",
     "text": [
      "['Orange', 'Strawberry', 'Mango']\n",
      "['Mango', 'Orange', 'Strawberry']\n"
     ]
    }
   ],
   "source": [
    "A = [\"Orange\", \"Strawberry\", \"Mango\"]\n",
    "C = sorted(A) \n",
    "\n",
    "print(A) # \n",
    "print(C) # a new sorted list is created by  keeping the original list unchanged."
   ]
  },
  {
   "cell_type": "markdown",
   "metadata": {
    "colab_type": "text",
    "id": "GKHI_Fjgx7wU"
   },
   "source": [
    "#### Shadow Copying \n",
    "- Shadow copying in Python refers to creating a new object that is a copy of the original object, but with references to the same objects inside it, rather than duplicating the inner objects themselves. \n",
    "- Shallow copy gives you a new list, but the items inside the list are still shared.\n",
    "- If you change the things inside, it affects both the original and the copied box."
   ]
  },
  {
   "cell_type": "code",
   "execution_count": 130,
   "metadata": {
    "colab": {},
    "colab_type": "code",
    "id": "2NiNL-qRx7wV"
   },
   "outputs": [
    {
     "name": "stdout",
     "output_type": "stream",
     "text": [
      "['Orange', 'Strawberry', 'Mango']\n",
      "['Apple', 'Strawberry', 'Mango']\n"
     ]
    }
   ],
   "source": [
    "A = [\"Orange\", \"Strawberry\", \"Mango\"]\n",
    "B = A\n",
    "print(B)\n",
    "A[0] = \"Apple\"\n",
    "print(A)"
   ]
  },
  {
   "cell_type": "code",
   "execution_count": null,
   "metadata": {
    "colab": {},
    "colab_type": "code",
    "id": "bgcD9vzRx7wZ",
    "outputId": "b0b257e6-fb5e-4804-f249-c6609560059b"
   },
   "outputs": [
    {
     "data": {
      "text/plain": [
       "['Apple', 'Strawberry', 'Mango']"
      ]
     },
     "execution_count": 12,
     "metadata": {
      "tags": []
     },
     "output_type": "execute_result"
    }
   ],
   "source": [
    "A"
   ]
  },
  {
   "cell_type": "code",
   "execution_count": null,
   "metadata": {
    "colab": {},
    "colab_type": "code",
    "id": "2wOQUzgCx7wd",
    "outputId": "dc70881c-b570-403a-fe70-29bc88cb88a5"
   },
   "outputs": [
    {
     "data": {
      "text/plain": [
       "['Apple', 'Strawberry', 'Mango']"
      ]
     },
     "execution_count": 13,
     "metadata": {
      "tags": []
     },
     "output_type": "execute_result"
    }
   ],
   "source": [
    "B"
   ]
  },
  {
   "cell_type": "code",
   "execution_count": 1,
   "metadata": {
    "colab": {},
    "colab_type": "code",
    "id": "ra1eMY0Ox7wh"
   },
   "outputs": [],
   "source": [
    "A = [\"Orange\", \"Strawberry\", \"Mango\"]\n",
    "B = A[:]    \n",
    "#Note 'A[:]' is used to call all the values stored in A\n",
    "#Now B has all the values of A but isn't a shadow copy of A\n",
    "#Shadow copy is basically assigning multiple labels to a single reference point or memory location\n",
    "\n",
    "A[0] = \"Apple\""
   ]
  },
  {
   "cell_type": "code",
   "execution_count": 3,
   "metadata": {
    "colab": {
     "base_uri": "https://localhost:8080/",
     "height": 35
    },
    "colab_type": "code",
    "id": "wWEuNQORx7wm",
    "outputId": "4f7547ba-9d2d-4e09-da8e-b2b79556f412"
   },
   "outputs": [
    {
     "data": {
      "text/plain": [
       "['Apple', 'Strawberry', 'Mango']"
      ]
     },
     "execution_count": 3,
     "metadata": {
      "tags": []
     },
     "output_type": "execute_result"
    }
   ],
   "source": [
    "A"
   ]
  },
  {
   "cell_type": "code",
   "execution_count": null,
   "metadata": {
    "colab": {},
    "colab_type": "code",
    "id": "3iXwsOmzx7wp",
    "outputId": "4ddb3646-ebab-446d-846d-bcb16e9bc783"
   },
   "outputs": [
    {
     "data": {
      "text/plain": [
       "['Orange', 'Strawberry', 'Mango']"
      ]
     },
     "execution_count": 16,
     "metadata": {
      "tags": []
     },
     "output_type": "execute_result"
    }
   ],
   "source": [
    "B"
   ]
  },
  {
   "cell_type": "markdown",
   "metadata": {
    "colab_type": "text",
    "id": "FbnoE9TJT5m-"
   },
   "source": [
    "Now that we know how to store multiple items together let us build another app that could store userid of our customers, which were randomly generated.\n",
    "\n",
    "We have the following requirements from the app -\n",
    "1. It shouldn't store duplicate values in the data-set\n",
    "2. Since the userid are randomly generated the order doesn't matter\n",
    "3. We need mutability i.e. if we want to delete a particular value we should be able to do so\n",
    "4. We might frequently want to check whether a user-id is part of the existing data set so it should be able to perform this operation fast\n",
    "\n",
    "For this use case, we could either use a unique function and maintain our list, but that would be comparatively time-consuming, so let's look at another data type provided by Python, which would be the best fit here.\n"
   ]
  },
  {
   "cell_type": "markdown",
   "metadata": {
    "colab_type": "text",
    "id": "uIA9Guy-x7wy"
   },
   "source": [
    "<h1 style=\"color:Brown\"> Sets </h1>\n",
    "\n",
    "- Sets are a type of collection like lists and tuples, storing mixed data.\n",
    "- Sets are enclosed within curly brackets and elements are written as comma-separated.\n",
    "- Sets are unordered\n",
    "- Sets do not allow duplicates\n",
    "- Mutable\n",
    "- No Indexing: You cannot access elements in a set by index\n",
    "- Fast Membership Testing"
   ]
  },
  {
   "cell_type": "code",
   "execution_count": 153,
   "metadata": {},
   "outputs": [
    {
     "name": "stdout",
     "output_type": "stream",
     "text": [
      "{1, 2, 3, 4, 5}\n",
      "{1, 2, 4, 5}\n",
      "{1, 2, 4, 5}\n",
      "Removed element: 1\n",
      "{2, 4, 5}\n",
      "set()\n"
     ]
    }
   ],
   "source": [
    "#Set Methods()\n",
    "#add(): Adds an element to the set.\n",
    "my_set = {1, 2, 3, 4}\n",
    "my_set.add(5)  # Adds 5 to the set\n",
    "print(my_set)  # Output: {1, 2, 3, 4, 5}\n",
    "\n",
    "#remove(): Removes an element from the set. If the element is not found, it raises a KeyError.\n",
    "my_set.remove(3)  # Removes 3(value) from the set \n",
    "print(my_set)  # Output: {1, 2, 4, 5}\n",
    "\n",
    "#discard(): Removes an element from the set, but if the element is not found, it does not raise an error.\n",
    "my_set.discard(6)  # Does nothing as 6 is not in the set\n",
    "print(my_set)  # Output: {1, 2, 4, 5}\n",
    "\n",
    "#pop(): Removes and returns an arbitrary element from the set. Since sets are unordered, you can't predict which element will be removed.\n",
    "removed_element = my_set.pop()  # Removes an arbitrary element\n",
    "print(f\"Removed element: {removed_element}\")\n",
    "print(my_set)  # Output: {remaining elements after pop}\n",
    "\n",
    "#clear(): Removes all elements from the set.\n",
    "my_set.clear()  # Clears the set\n",
    "print(my_set)  # Output: set()"
   ]
  },
  {
   "cell_type": "code",
   "execution_count": 155,
   "metadata": {
    "colab": {},
    "colab_type": "code",
    "id": "nGP1V2Acx7wy",
    "outputId": "e0a7be3b-9ff0-4314-ba3a-0964874fc01a"
   },
   "outputs": [
    {
     "data": {
      "text/plain": [
       "{1, 2, 3, 4, 5}"
      ]
     },
     "execution_count": 155,
     "metadata": {},
     "output_type": "execute_result"
    }
   ],
   "source": [
    "l = [1,3,2,4,5,5]\n",
    "\n",
    "set_l = set(l) # removes duplicates and sorts in ascending order\n",
    "\n",
    "set_l"
   ]
  },
  {
   "cell_type": "code",
   "execution_count": 157,
   "metadata": {
    "colab": {},
    "colab_type": "code",
    "id": "Ot7CFivOx7w2",
    "outputId": "b9931b71-a6b2-45ca-c50f-a845601caf32"
   },
   "outputs": [
    {
     "data": {
      "text/plain": [
       "5"
      ]
     },
     "execution_count": 157,
     "metadata": {},
     "output_type": "execute_result"
    }
   ],
   "source": [
    "len(set_l)"
   ]
  },
  {
   "cell_type": "code",
   "execution_count": 145,
   "metadata": {
    "colab": {},
    "colab_type": "code",
    "id": "v6zO64NZx7w7",
    "outputId": "7f9f7848-14eb-428d-9188-c4fb0f8903a5"
   },
   "outputs": [
    {
     "data": {
      "text/plain": [
       "{1, 2, 3, 4, 5, 'Australia'}"
      ]
     },
     "execution_count": 145,
     "metadata": {},
     "output_type": "execute_result"
    }
   ],
   "source": [
    "a = {1, 2, 3, 4, 5}\n",
    "\n",
    "a.add(\"Australia\")\n",
    "\n",
    "a"
   ]
  },
  {
   "cell_type": "code",
   "execution_count": null,
   "metadata": {
    "colab": {},
    "colab_type": "code",
    "id": "IYzT8uPlx7w_",
    "outputId": "46b420c4-c653-484e-cd45-ed41f6115048"
   },
   "outputs": [
    {
     "data": {
      "text/plain": [
       "{1, 2, 3, 4, 5}"
      ]
     },
     "execution_count": 20,
     "metadata": {
      "tags": []
     },
     "output_type": "execute_result"
    }
   ],
   "source": [
    "a = {1, 2, 3, 4, 5, \"Australia\"}\n",
    "a.remove(\"Australia\")\n",
    "a"
   ]
  },
  {
   "cell_type": "code",
   "execution_count": 161,
   "metadata": {},
   "outputs": [],
   "source": [
    "#Set Operations:\n",
    "#You can perform various operations on sets such as union, intersection, difference, and symmetric difference."
   ]
  },
  {
   "cell_type": "code",
   "execution_count": 177,
   "metadata": {
    "colab": {},
    "colab_type": "code",
    "id": "hZZpzqA9x7xB"
   },
   "outputs": [],
   "source": [
    "# Set Operations\n",
    "\n",
    "A = {0, 2, 4, 6, 8}\n",
    "B = {1, 2, 3, 4, 5}"
   ]
  },
  {
   "cell_type": "code",
   "execution_count": null,
   "metadata": {
    "colab": {},
    "colab_type": "code",
    "id": "NbEYt-_9x7xD",
    "outputId": "94ae70a8-8f1d-49ff-a212-41ff347f620b"
   },
   "outputs": [
    {
     "name": "stdout",
     "output_type": "stream",
     "text": [
      "{0, 1, 2, 3, 4, 5, 6, 8}\n",
      "{0, 1, 2, 3, 4, 5, 6, 8}\n"
     ]
    }
   ],
   "source": [
    "#Union (|): Combines elements from two sets, keeping only unique elements.\n",
    "print(A | B) # Union\n",
    "print (A.union(B))"
   ]
  },
  {
   "cell_type": "code",
   "execution_count": null,
   "metadata": {
    "colab": {},
    "colab_type": "code",
    "id": "BTkATS76x7xF",
    "outputId": "a8f13c56-149f-4785-ff72-5ac7796893bc"
   },
   "outputs": [
    {
     "name": "stdout",
     "output_type": "stream",
     "text": [
      "{2, 4}\n",
      "{2, 4}\n"
     ]
    }
   ],
   "source": [
    "#Intersection (&): Finds common elements between two sets.\n",
    "print(A & B) # Intersection\n",
    "print(A.intersection(B))"
   ]
  },
  {
   "cell_type": "code",
   "execution_count": 183,
   "metadata": {
    "colab": {},
    "colab_type": "code",
    "id": "5dO6UvEEx7xK",
    "outputId": "6781da24-8c2f-4bcf-c642-81ecf509b6c9"
   },
   "outputs": [
    {
     "name": "stdout",
     "output_type": "stream",
     "text": [
      "{0, 8, 6}\n",
      "{0, 8, 6}\n"
     ]
    }
   ],
   "source": [
    "#Difference (-): Finds elements in the first set that are not in the second set.\n",
    "set_A = set(A) # convets list into set\n",
    "set_B = set(B) #  # convets list into set\n",
    "print(set_A - set_B) # Difference\n",
    "print(set_A.difference(set_B))  # only A elements\n",
    "# Both A - B and A.difference(B) will give the same result in Python,as they perform the same operation: finding elements that are in set A but not in set B"
   ]
  },
  {
   "cell_type": "code",
   "execution_count": 185,
   "metadata": {
    "colab": {},
    "colab_type": "code",
    "id": "hserTb8Cx7xM",
    "outputId": "5a670fd9-9d8f-469e-90bc-00bc2831f35d"
   },
   "outputs": [
    {
     "name": "stdout",
     "output_type": "stream",
     "text": [
      "{0, 1, 3, 5, 6, 8}\n"
     ]
    }
   ],
   "source": [
    "#Symmetric Difference (^): Finds elements that are in either set, but not both.\n",
    "print(A ^ B) # Symmetric Difference"
   ]
  },
  {
   "cell_type": "markdown",
   "metadata": {
    "colab_type": "text",
    "id": "4w64upQvx7xP"
   },
   "source": [
    "<h1 style=\"color:Brown\"> Dictionaries </h1>\n",
    "\n",
    "- A dictionary stores element as keys and values pairs.\n",
    "- The key is like an index, it's is always unique and immutable. \n",
    "- The values are the objects that contain information.\n",
    "- Values are accessed using their keys.\n",
    "- Each key is followed by a value separated by a colon. \n",
    "- The values can be immutable, mutable, and duplicates. \n",
    "- Each key and value pair is separated by a comma enclosed inside curly brackets.\n",
    "- Uses Key-value pair to access the item\n",
    "- The sort() method does not work on dictionaries because dictionaries are unordered collections "
   ]
  },
  {
   "cell_type": "code",
   "execution_count": null,
   "metadata": {
    "colab": {
     "base_uri": "https://localhost:8080/",
     "height": 35
    },
    "colab_type": "code",
    "id": "EF0ApV2Bx7xQ",
    "outputId": "82669d76-c1db-4b60-bfb2-78553db1ad8f"
   },
   "outputs": [
    {
     "data": {
      "application/vnd.google.colaboratory.intrinsic+json": {
       "type": "string"
      },
      "text/plain": [
       "'USD'"
      ]
     },
     "execution_count": 1,
     "metadata": {
      "tags": []
     },
     "output_type": "execute_result"
    }
   ],
   "source": [
    "# Creating a dictionary\n",
    "\n",
    "d = {\"India\" : \"INR\", \"USA\" : \"USD\", \"France\" : \"Euros\"}\n",
    "\n",
    "# Access value using keys\n",
    "\n",
    "d[\"USA\"]"
   ]
  },
  {
   "cell_type": "code",
   "execution_count": null,
   "metadata": {
    "colab": {
     "base_uri": "https://localhost:8080/",
     "height": 35
    },
    "colab_type": "code",
    "id": "VBZnEVMAx7xS",
    "outputId": "1ebdeb34-5d9c-4a1e-8d7f-ca93a09e4c46"
   },
   "outputs": [
    {
     "data": {
      "text/plain": [
       "{'France': 'Euros', 'India': 'INR', 'USA': '$'}"
      ]
     },
     "execution_count": 2,
     "metadata": {
      "tags": []
     },
     "output_type": "execute_result"
    }
   ],
   "source": [
    "# Replace the value for a key in a dictionary\n",
    "\n",
    "d[\"USA\"] = \"$\"\n",
    "\n",
    "d"
   ]
  },
  {
   "cell_type": "code",
   "execution_count": null,
   "metadata": {
    "colab": {
     "base_uri": "https://localhost:8080/",
     "height": 35
    },
    "colab_type": "code",
    "id": "-yHHWpeqx7xU",
    "outputId": "5a51cbeb-090c-4941-c990-2a571cbb8b1a"
   },
   "outputs": [
    {
     "data": {
      "text/plain": [
       "{'France': 'Euros', 'India': 'INR', 'Japan': 'Yen', 'USA': '$'}"
      ]
     },
     "execution_count": 3,
     "metadata": {
      "tags": []
     },
     "output_type": "execute_result"
    }
   ],
   "source": [
    "# Insert new key value pair into a dictionary\n",
    "\n",
    "d[\"Japan\"] = \"Yen\"\n",
    "\n",
    "d"
   ]
  },
  {
   "cell_type": "code",
   "execution_count": null,
   "metadata": {
    "colab": {
     "base_uri": "https://localhost:8080/",
     "height": 35
    },
    "colab_type": "code",
    "id": "sCW7FVM8x7xX",
    "outputId": "3bb4aa80-1e64-4b17-f447-35c63969b2db"
   },
   "outputs": [
    {
     "data": {
      "text/plain": [
       "{'India': 'INR', 'Japan': 'Yen', 'USA': '$'}"
      ]
     },
     "execution_count": 4,
     "metadata": {
      "tags": []
     },
     "output_type": "execute_result"
    }
   ],
   "source": [
    "# Deleting a key value pair\n",
    "\n",
    "del d[\"France\"]\n",
    "\n",
    "d"
   ]
  },
  {
   "cell_type": "code",
   "execution_count": null,
   "metadata": {
    "colab": {
     "base_uri": "https://localhost:8080/",
     "height": 35
    },
    "colab_type": "code",
    "id": "7zY-tFUSx7xa",
    "outputId": "a5f27b22-06c6-439a-9587-1bfd7f9a654b"
   },
   "outputs": [
    {
     "data": {
      "text/plain": [
       "['India', 'Japan', 'USA']"
      ]
     },
     "execution_count": 5,
     "metadata": {
      "tags": []
     },
     "output_type": "execute_result"
    }
   ],
   "source": [
    "# Sorting a dictionary\n",
    "\n",
    "sorted(d)"
   ]
  },
  {
   "cell_type": "code",
   "execution_count": null,
   "metadata": {
    "colab": {
     "base_uri": "https://localhost:8080/",
     "height": 35
    },
    "colab_type": "code",
    "id": "yGvItflRx7xd",
    "outputId": "cc106415-a920-4a5d-c5c3-143ea69c9324"
   },
   "outputs": [
    {
     "data": {
      "text/plain": [
       "dict_values(['INR', 'USD', 'Euros'])"
      ]
     },
     "execution_count": 6,
     "metadata": {
      "tags": []
     },
     "output_type": "execute_result"
    }
   ],
   "source": [
    "# values() Method\n",
    "\n",
    "d = {\"India\" : \"INR\", \"USA\" : \"USD\", \"France\" : \"Euros\"}\n",
    "\n",
    "d.values() # Gives values of all keys in list\n"
   ]
  },
  {
   "cell_type": "code",
   "execution_count": null,
   "metadata": {
    "colab": {},
    "colab_type": "code",
    "id": "QxE6EhJSx7xf",
    "outputId": "7b65374e-8c4b-4552-9546-446a35b58ef5"
   },
   "outputs": [
    {
     "data": {
      "text/plain": [
       "dict_keys(['India', 'USA', 'France'])"
      ]
     },
     "execution_count": 32,
     "metadata": {
      "tags": []
     },
     "output_type": "execute_result"
    }
   ],
   "source": [
    "# Keys() Method\n",
    "\n",
    "d.keys() # gives all keys in list\n"
   ]
  },
  {
   "cell_type": "code",
   "execution_count": null,
   "metadata": {
    "colab": {
     "base_uri": "https://localhost:8080/",
     "height": 35
    },
    "colab_type": "code",
    "id": "lZX31ugUx7xj",
    "outputId": "d337dd50-54e5-4ebf-87c0-d0f6257e6c1d"
   },
   "outputs": [
    {
     "data": {
      "text/plain": [
       "{'France': 'Euros', 'India': 'INR', 'USA': '$'}"
      ]
     },
     "execution_count": 7,
     "metadata": {
      "tags": []
     },
     "output_type": "execute_result"
    }
   ],
   "source": [
    "# Update() Method\n",
    "\n",
    "d.update({'USA':'$'})\n",
    "d"
   ]
  }
 ],
 "metadata": {
  "colab": {
   "collapsed_sections": [
    "dfaI2Nqgx7ul",
    "q9Z0-2hcx7up",
    "uIZxFBdCx7vO",
    "2S1E7CUFx7wK"
   ],
   "name": "new_Session - 2.ipynb",
   "provenance": []
  },
  "kernelspec": {
   "display_name": "Python 3 (ipykernel)",
   "language": "python",
   "name": "python3"
  },
  "language_info": {
   "codemirror_mode": {
    "name": "ipython",
    "version": 3
   },
   "file_extension": ".py",
   "mimetype": "text/x-python",
   "name": "python",
   "nbconvert_exporter": "python",
   "pygments_lexer": "ipython3",
   "version": "3.12.4"
  }
 },
 "nbformat": 4,
 "nbformat_minor": 4
}
